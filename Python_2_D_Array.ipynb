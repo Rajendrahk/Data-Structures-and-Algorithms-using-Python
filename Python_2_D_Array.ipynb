{
  "nbformat": 4,
  "nbformat_minor": 0,
  "metadata": {
    "colab": {
      "name": "Python - 2-D Array.ipynb",
      "provenance": []
    },
    "kernelspec": {
      "name": "python3",
      "display_name": "Python 3"
    },
    "language_info": {
      "name": "python"
    }
  },
  "cells": [
    {
      "cell_type": "markdown",
      "metadata": {
        "id": "l4TgLW6NCERL"
      },
      "source": [
        "Two dimensional array is an array within an array. It is an array of arrays. In this type of array the position of an data element is referred by two indices instead of one. So it represents a table with rows and columns of data.\n",
        "\n",
        "In the below example of a two dimensional array, observer that each array element itself is also an array.\n",
        "\n",
        "Consider the example of recording temperatures 4 times a day, every day. Some times the recording instrument may be faulty and we fail to record data. Such data for 4 days can be presented as a two dimensional array as below.\n",
        "\n",
        "Day 1 - 11 12 5 2 \n",
        "\n",
        "Day 2 - 15 6 10 \n",
        "\n",
        "Day 3 - 10 8 12 5 \n",
        "\n",
        "Day 4 - 12 15 8 6 \n",
        "\n",
        "The above data can be represented as a two dimensional array as below.\n",
        "\n",
        "T = [[11, 12, 5, 2], [15, 6,10], [10, 8, 12, 5], [12,15,8,6]]"
      ]
    },
    {
      "cell_type": "markdown",
      "metadata": {
        "id": "341AexHS_wTY"
      },
      "source": [
        "**Accessing Values**\n",
        "\n",
        "The data elements in two dimesnional arrays can be accessed using two indices. One index referring to the main or parent array and another index referring to the position of the data element in the inner array.If we mention only one index then the entire inner array is printed for that index position.\n",
        "\n",
        "**Example**\n",
        "\n",
        "The example below illustrates how it works."
      ]
    },
    {
      "cell_type": "code",
      "metadata": {
        "colab": {
          "base_uri": "https://localhost:8080/"
        },
        "id": "Ux5mipePrsTv",
        "outputId": "b54dd1a6-d69a-4313-f096-eb7975ee76a6"
      },
      "source": [
        "from array import *\n",
        "\n",
        "T = [[11, 12, 5, 2], [15, 6,10], [10, 8, 12, 5], [12,15,8,6]]\n",
        "\n",
        "print(T[0])\n",
        "\n",
        "print(T[1][2])"
      ],
      "execution_count": 1,
      "outputs": [
        {
          "output_type": "stream",
          "name": "stdout",
          "text": [
            "[11, 12, 5, 2]\n",
            "10\n"
          ]
        }
      ]
    },
    {
      "cell_type": "markdown",
      "metadata": {
        "id": "IaqD9cQDBQAU"
      },
      "source": [
        "To print out the entire two dimensional array we can use python for loop as shown below. We use end of line to print out the values in different rows."
      ]
    },
    {
      "cell_type": "code",
      "metadata": {
        "colab": {
          "base_uri": "https://localhost:8080/"
        },
        "id": "E1wxnmsp_3uy",
        "outputId": "1311f860-4064-4274-e0b6-e7b2ada11e8c"
      },
      "source": [
        "from array import *\n",
        "\n",
        "T = [[11, 12, 5, 2], [15, 6,10], [10, 8, 12, 5], [12,15,8,6]]\n",
        "for row in T:\n",
        "   for column in row:\n",
        "      print(column,end = \" \")\n",
        "   print()"
      ],
      "execution_count": 2,
      "outputs": [
        {
          "output_type": "stream",
          "name": "stdout",
          "text": [
            "11 12 5 2 \n",
            "15 6 10 \n",
            "10 8 12 5 \n",
            "12 15 8 6 \n"
          ]
        }
      ]
    },
    {
      "cell_type": "markdown",
      "metadata": {
        "id": "f5vaap1vWMlY"
      },
      "source": [
        "**Inserting Values**\n",
        "\n",
        "We can insert new data elements at specific position by using the insert() method and specifying the index.\n",
        "\n",
        "**Example**\n",
        "\n",
        "In the below example a new data element is inserted at index position 2."
      ]
    },
    {
      "cell_type": "code",
      "metadata": {
        "colab": {
          "base_uri": "https://localhost:8080/"
        },
        "id": "57eJn6m_WdF1",
        "outputId": "bab15c83-3544-45d6-c7a8-a8b4aff5dcc5"
      },
      "source": [
        "from array import *\n",
        "T = [[11, 12, 5, 2], [15, 6,10], [10, 8, 12, 5], [12,15,8,6]]\n",
        "\n",
        "T.insert(2, [0,5,11,13,6])\n",
        "\n",
        "for row in T:\n",
        "   for column in row:\n",
        "      print(column,end = \" \")\n",
        "   print()"
      ],
      "execution_count": 6,
      "outputs": [
        {
          "output_type": "stream",
          "name": "stdout",
          "text": [
            "11 12 5 2 \n",
            "15 6 10 \n",
            "0 5 11 13 6 \n",
            "10 8 12 5 \n",
            "12 15 8 6 \n"
          ]
        }
      ]
    },
    {
      "cell_type": "markdown",
      "metadata": {
        "id": "Qd0u64G5EUZL"
      },
      "source": [
        "**Updating Values**\n",
        "\n",
        "We can update the entire inner array or some specific data elements of the inner array by reassigning the values using the array index.\n",
        "\n",
        "**Example**"
      ]
    },
    {
      "cell_type": "code",
      "metadata": {
        "colab": {
          "base_uri": "https://localhost:8080/"
        },
        "id": "_XmA4hL6EiFQ",
        "outputId": "b959ae23-341e-4ca3-f789-4f92943ecba9"
      },
      "source": [
        "from array import *\n",
        "\n",
        "T = [[11, 12, 5, 2], [15, 6,10], [10, 8, 12, 5], [12,15,8,6]]\n",
        "\n",
        "T[2] = [11,9]\n",
        "T[0][3] = 7\n",
        "for row in T:\n",
        "   for column in row:\n",
        "      print(column,end = \" \")\n",
        "   print()"
      ],
      "execution_count": 4,
      "outputs": [
        {
          "output_type": "stream",
          "name": "stdout",
          "text": [
            "11 12 5 7 \n",
            "15 6 10 \n",
            "11 9 \n",
            "12 15 8 6 \n"
          ]
        }
      ]
    },
    {
      "cell_type": "markdown",
      "metadata": {
        "id": "wfKKJ58-Dm6Q"
      },
      "source": [
        "**Deleting the Values**\n",
        "\n",
        "We can delete the entire inner array or some specific data elements of the inner array by reassigning the values using the del() method with index. But in case you need to remove specific data elements in one of the inner arrays, then use the update process described above.\n",
        "\n",
        "**Example**"
      ]
    },
    {
      "cell_type": "code",
      "metadata": {
        "colab": {
          "base_uri": "https://localhost:8080/"
        },
        "id": "ncxiqUJeC7Qx",
        "outputId": "129502a6-4d25-4ce8-b256-1109289db67d"
      },
      "source": [
        "from array import *\n",
        "T = [[11, 12, 5, 2], [15, 6,10], [10, 8, 12, 5], [12,15,8,6]]\n",
        "\n",
        "del T[3]\n",
        "\n",
        "for row in T:\n",
        "   for column in row:\n",
        "      print(column,end = \" \")\n",
        "   print()"
      ],
      "execution_count": 3,
      "outputs": [
        {
          "output_type": "stream",
          "name": "stdout",
          "text": [
            "11 12 5 2 \n",
            "15 6 10 \n",
            "10 8 12 5 \n"
          ]
        }
      ]
    }
  ]
}