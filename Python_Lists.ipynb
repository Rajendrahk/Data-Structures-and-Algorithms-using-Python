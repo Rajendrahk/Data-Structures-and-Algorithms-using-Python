{
  "nbformat": 4,
  "nbformat_minor": 0,
  "metadata": {
    "colab": {
      "name": "Python - Lists.ipynb",
      "provenance": []
    },
    "kernelspec": {
      "name": "python3",
      "display_name": "Python 3"
    },
    "language_info": {
      "name": "python"
    }
  },
  "cells": [
    {
      "cell_type": "markdown",
      "metadata": {
        "id": "lpOSq85yZmOx"
      },
      "source": [
        "The list is a most versatile datatype available in Python which can be written as a list of comma-separated values (items) between square brackets. Important thing about a list is that items in a list need not be of the same type.\n",
        "\n",
        "Creating a list is as simple as putting different comma-separated values between square brackets.\n",
        "\n",
        "**For example**"
      ]
    },
    {
      "cell_type": "code",
      "metadata": {
        "id": "b5HAlL92X-7t"
      },
      "source": [
        "list1 = ['physics', 'chemistry', 1997, 2000]\n",
        "list2 = [1, 2, 3, 4, 5 ]\n",
        "list3 = [\"a\", \"b\", \"c\", \"d\"]"
      ],
      "execution_count": 1,
      "outputs": []
    },
    {
      "cell_type": "markdown",
      "metadata": {
        "id": "NoBkJ3jSY8w3"
      },
      "source": [
        "Similar to string indices, list indices start at 0, and lists can be sliced, concatenated and so on.\n",
        "\n",
        "**Accessing Values**\n",
        "\n",
        "To access values in lists, use the square brackets for slicing along with the index or indices to obtain value available at that index.\n",
        "\n",
        "**For example**"
      ]
    },
    {
      "cell_type": "code",
      "metadata": {
        "colab": {
          "base_uri": "https://localhost:8080/"
        },
        "id": "Xkq3gNbwYml6",
        "outputId": "44609d1c-e199-4542-99e4-6ab89f0f4eff"
      },
      "source": [
        "list1 = ['physics', 'chemistry', 1997, 2000]\n",
        "list2 = [1, 2, 3, 4, 5, 6, 7 ]\n",
        "print(\"list1[0]: \", list1[0])\n",
        "print(\"list2[1:5]: \", list2[1:5])"
      ],
      "execution_count": 3,
      "outputs": [
        {
          "output_type": "stream",
          "name": "stdout",
          "text": [
            "list1[0]:  physics\n",
            "list2[1:5]:  [2, 3, 4, 5]\n"
          ]
        }
      ]
    },
    {
      "cell_type": "markdown",
      "metadata": {
        "id": "keu-xblPbAHa"
      },
      "source": [
        "**Updating Lists**\n",
        "\n",
        "You can update single or multiple elements of lists by giving the slice on the left-hand side of the assignment operator, and you can add to elements in a list with the append() method.\n",
        "\n",
        "**Note −** append() method is discussed in subsequent section."
      ]
    },
    {
      "cell_type": "code",
      "metadata": {
        "colab": {
          "base_uri": "https://localhost:8080/"
        },
        "id": "qppbsG3EaGOd",
        "outputId": "c1067559-adaa-4236-ace5-ee571ee369e4"
      },
      "source": [
        "list = ['physics', 'chemistry', 1997, 2000]\n",
        "print(\"Value available at index 2 :\", list[2])\n",
        "list[2] = 2001\n",
        "print(\"New value available at index 2 :\", list[2])"
      ],
      "execution_count": 6,
      "outputs": [
        {
          "output_type": "stream",
          "name": "stdout",
          "text": [
            "Value available at index 2 : 1997\n",
            "New value available at index 2 : 2001\n"
          ]
        }
      ]
    },
    {
      "cell_type": "markdown",
      "metadata": {
        "id": "dEFd0LBoa7YB"
      },
      "source": [
        "**Delete List Elements**\n",
        "\n",
        "To remove a list element, you can use either the del statement if you know exactly which element(s) you are deleting or the remove() method if you do not know. \n",
        "\n",
        "**Note −** remove() method is discussed in subsequent section."
      ]
    },
    {
      "cell_type": "code",
      "metadata": {
        "colab": {
          "base_uri": "https://localhost:8080/"
        },
        "id": "FS1FnrBUbXCv",
        "outputId": "364302d4-dc01-42ae-ea62-0e1b272f8780"
      },
      "source": [
        "list1 = ['physics', 'chemistry', 1997, 2000]\n",
        "print(list1)\n",
        "del(list1[2])\n",
        "print(\"After deleting value at index 2 : \", list1)\n"
      ],
      "execution_count": 7,
      "outputs": [
        {
          "output_type": "stream",
          "name": "stdout",
          "text": [
            "['physics', 'chemistry', 1997, 2000]\n",
            "After deleting value at index 2 :  ['physics', 'chemistry', 2000]\n"
          ]
        }
      ]
    },
    {
      "cell_type": "markdown",
      "metadata": {
        "id": "lG2oLBXAOXL_"
      },
      "source": [
        "**Basic List Operations**\n",
        "Lists respond to the + and * operators much like strings; they mean concatenation and repetition here too, except that the result is a new list, not a string.\n",
        "\n",
        "\n"
      ]
    },
    {
      "cell_type": "markdown",
      "metadata": {
        "id": "HzbvPv7vO8o3"
      },
      "source": [
        "![List Python.PNG](data:image/png;base64,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)"
      ]
    }
  ]
}