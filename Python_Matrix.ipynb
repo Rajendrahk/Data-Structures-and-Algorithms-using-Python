{
  "nbformat": 4,
  "nbformat_minor": 0,
  "metadata": {
    "colab": {
      "name": "Python - Matrix.ipynb",
      "provenance": []
    },
    "kernelspec": {
      "name": "python3",
      "display_name": "Python 3"
    },
    "language_info": {
      "name": "python"
    }
  },
  "cells": [
    {
      "cell_type": "markdown",
      "metadata": {
        "id": "lbr1l2-xadkj"
      },
      "source": [
        "Matrix is a special case of two dimensional array where each data element is of strictly same size. So every matrix is also a two dimensional array but not vice versa.\n",
        "\n",
        "Matrices are very important data structures for many mathematical and scientific calculations. As we have already discussed two dimnsional array data structure in the previous tutorial we will be focusing on data structure operations specific to matrices in this tutorial.\n",
        "\n",
        "We also be using the numpy package for matrix data manipulation."
      ]
    },
    {
      "cell_type": "markdown",
      "metadata": {
        "id": "-K7JrZkhaIF6"
      },
      "source": [
        "**Matrix Example**\n",
        "\n",
        "Consider the case of recording temprature for 1 week measured in the morning, mid-day, evening and mid-night. It can be presented as a 7X5 matrix using an array and the reshape method available in numpy."
      ]
    },
    {
      "cell_type": "code",
      "metadata": {
        "colab": {
          "base_uri": "https://localhost:8080/"
        },
        "id": "M2ZeZ31HYvpo",
        "outputId": "de1d5544-783d-4ef8-cbc3-517ad3a98a7b"
      },
      "source": [
        "from numpy import * \n",
        "a = array([['Mon',18,20,22,17],['Tue',11,18,21,18],\n",
        "   ['Wed',15,21,20,19],['Thu',11,20,22,21],\n",
        "   ['Fri',18,17,23,22],['Sat',12,22,20,18],\n",
        "   ['Sun',13,15,19,16]])\n",
        "m = reshape(a,(7,5))\n",
        "print(m)"
      ],
      "execution_count": 1,
      "outputs": [
        {
          "output_type": "stream",
          "name": "stdout",
          "text": [
            "[['Mon' '18' '20' '22' '17']\n",
            " ['Tue' '11' '18' '21' '18']\n",
            " ['Wed' '15' '21' '20' '19']\n",
            " ['Thu' '11' '20' '22' '21']\n",
            " ['Fri' '18' '17' '23' '22']\n",
            " ['Sat' '12' '22' '20' '18']\n",
            " ['Sun' '13' '15' '19' '16']]\n"
          ]
        }
      ]
    },
    {
      "cell_type": "markdown",
      "metadata": {
        "id": "zIj8XA0MZnik"
      },
      "source": [
        "**Accessing Values**\n",
        "\n",
        "The data elements in a matrix can be accessed by using the indexes. The access method is same as the way data is accessed in Two dimensional array.\n",
        "\n",
        "**Example**"
      ]
    },
    {
      "cell_type": "code",
      "metadata": {
        "colab": {
          "base_uri": "https://localhost:8080/"
        },
        "id": "hmI2KA4NZtOR",
        "outputId": "2e476ca3-91d5-41a7-f55e-5b3dc1f71fa1"
      },
      "source": [
        "from numpy import * \n",
        "m = array([['Mon',18,20,22,17],['Tue',11,18,21,18],\n",
        "   ['Wed',15,21,20,19],['Thu',11,20,22,21],\n",
        "   ['Fri',18,17,23,22],['Sat',12,22,20,18],\n",
        "   ['Sun',13,15,19,16]])\n",
        "    \n",
        "# Print data for Wednesday\n",
        "print(m[2])\n",
        "\n",
        "# Print data for friday evening\n",
        "print(m[4][3])"
      ],
      "execution_count": 2,
      "outputs": [
        {
          "output_type": "stream",
          "name": "stdout",
          "text": [
            "['Wed' '15' '21' '20' '19']\n",
            "23\n"
          ]
        }
      ]
    },
    {
      "cell_type": "markdown",
      "metadata": {
        "id": "q6HhydLVauqS"
      },
      "source": [
        "**Adding a row**\n",
        "\n",
        "Use the below mentioned code to add a row in a matrix.\n",
        "\n",
        "**Example**"
      ]
    },
    {
      "cell_type": "code",
      "metadata": {
        "colab": {
          "base_uri": "https://localhost:8080/"
        },
        "id": "7p40rQMfa4i3",
        "outputId": "ad882096-7601-45cd-c165-53a2ad520508"
      },
      "source": [
        "from numpy import * \n",
        "m = array([['Mon',18,20,22,17],['Tue',11,18,21,18],\n",
        "   ['Wed',15,21,20,19],['Thu',11,20,22,21],\n",
        "   ['Fri',18,17,23,22],['Sat',12,22,20,18],\n",
        "   ['Sun',13,15,19,16]])\n",
        "m_r = append(m,[['Avg',12,15,13,11]],0)\n",
        "\n",
        "print(m_r)"
      ],
      "execution_count": 3,
      "outputs": [
        {
          "output_type": "stream",
          "name": "stdout",
          "text": [
            "[['Mon' '18' '20' '22' '17']\n",
            " ['Tue' '11' '18' '21' '18']\n",
            " ['Wed' '15' '21' '20' '19']\n",
            " ['Thu' '11' '20' '22' '21']\n",
            " ['Fri' '18' '17' '23' '22']\n",
            " ['Sat' '12' '22' '20' '18']\n",
            " ['Sun' '13' '15' '19' '16']\n",
            " ['Avg' '12' '15' '13' '11']]\n"
          ]
        }
      ]
    },
    {
      "cell_type": "markdown",
      "metadata": {
        "id": "4lA7hSYrcGlb"
      },
      "source": [
        "**Adding a column**\n",
        "\n",
        "We can add column to a matrix using the insert() method. here we have to mention the index where we want to add the column and an array containing the new values of the columns added.In the below example we add a new column at the fifth position from the beginning.\n",
        "\n",
        "**Example**"
      ]
    },
    {
      "cell_type": "code",
      "metadata": {
        "colab": {
          "base_uri": "https://localhost:8080/"
        },
        "id": "wvtpPBkGcPul",
        "outputId": "4acd9cd8-f73e-4f75-c6d5-2320fa3818fe"
      },
      "source": [
        "from numpy import * \n",
        "m = array([['Mon',18,20,22,17],['Tue',11,18,21,18],\n",
        "   ['Wed',15,21,20,19],['Thu',11,20,22,21],\n",
        "   ['Fri',18,17,23,22],['Sat',12,22,20,18],\n",
        "   ['Sun',13,15,19,16]])\n",
        "m_c = insert(m,[5],[[1],[2],[3],[4],[5],[6],[7]],1)\n",
        "\n",
        "print(m_c)"
      ],
      "execution_count": 4,
      "outputs": [
        {
          "output_type": "stream",
          "name": "stdout",
          "text": [
            "[['Mon' '18' '20' '22' '17' '1']\n",
            " ['Tue' '11' '18' '21' '18' '2']\n",
            " ['Wed' '15' '21' '20' '19' '3']\n",
            " ['Thu' '11' '20' '22' '21' '4']\n",
            " ['Fri' '18' '17' '23' '22' '5']\n",
            " ['Sat' '12' '22' '20' '18' '6']\n",
            " ['Sun' '13' '15' '19' '16' '7']]\n"
          ]
        }
      ]
    },
    {
      "cell_type": "markdown",
      "metadata": {
        "id": "lmET6G6heRS9"
      },
      "source": [
        "**Delete a row**\n",
        "\n",
        "We can delete a row from a matrix using the delete() method. We have to specify the index of the row and also the axis value which is 0 for a row and 1 for a column.\n",
        "\n",
        "**Example**"
      ]
    },
    {
      "cell_type": "code",
      "metadata": {
        "colab": {
          "base_uri": "https://localhost:8080/"
        },
        "id": "l6aVNeQaeIaU",
        "outputId": "b3c7ac46-f4b5-4227-a63d-9cc5f5084d0e"
      },
      "source": [
        "from numpy import * \n",
        "m = array([['Mon',18,20,22,17],['Tue',11,18,21,18],\n",
        "   ['Wed',15,21,20,19],['Thu',11,20,22,21],\n",
        "   ['Fri',18,17,23,22],['Sat',12,22,20,18],\n",
        "   ['Sun',13,15,19,16]])\n",
        "m = delete(m,[2],0)\n",
        "\n",
        "print(m)"
      ],
      "execution_count": 5,
      "outputs": [
        {
          "output_type": "stream",
          "name": "stdout",
          "text": [
            "[['Mon' '18' '20' '22' '17']\n",
            " ['Tue' '11' '18' '21' '18']\n",
            " ['Thu' '11' '20' '22' '21']\n",
            " ['Fri' '18' '17' '23' '22']\n",
            " ['Sat' '12' '22' '20' '18']\n",
            " ['Sun' '13' '15' '19' '16']]\n"
          ]
        }
      ]
    },
    {
      "cell_type": "markdown",
      "metadata": {
        "id": "yy10xWm9es0N"
      },
      "source": [
        "**Delete a column**\n",
        "\n",
        "We can delete a column from a matrix using the delete() method. We have to specify the index of the column and also the axis value which is 0 for a row and 1 for a column.\n",
        "\n",
        "**Example**"
      ]
    },
    {
      "cell_type": "code",
      "metadata": {
        "colab": {
          "base_uri": "https://localhost:8080/"
        },
        "id": "NgZEI4FKe9zI",
        "outputId": "53d63637-168b-4e46-f339-05f9c180c404"
      },
      "source": [
        "from numpy import * \n",
        "m = array([['Mon',18,20,22,17],['Tue',11,18,21,18],\n",
        "   ['Wed',15,21,20,19],['Thu',11,20,22,21],\n",
        "   ['Fri',18,17,23,22],['Sat',12,22,20,18],\n",
        "   ['Sun',13,15,19,16]])\n",
        "m = delete(m,[2],1)\n",
        "\n",
        "print(m)"
      ],
      "execution_count": 7,
      "outputs": [
        {
          "output_type": "stream",
          "name": "stdout",
          "text": [
            "[['Mon' '18' '22' '17']\n",
            " ['Tue' '11' '21' '18']\n",
            " ['Wed' '15' '20' '19']\n",
            " ['Thu' '11' '22' '21']\n",
            " ['Fri' '18' '23' '22']\n",
            " ['Sat' '12' '20' '18']\n",
            " ['Sun' '13' '19' '16']]\n"
          ]
        }
      ]
    },
    {
      "cell_type": "markdown",
      "metadata": {
        "id": "S8YYIdkhfyXf"
      },
      "source": [
        "**Update a row**\n",
        "\n",
        "To update the values in the row of a matrix we simply re-assign the values at the index of the row. In the below example all the values for thrusday's data is marked as zero. The index for this row is 3.\n",
        "\n",
        "**Example**"
      ]
    },
    {
      "cell_type": "code",
      "metadata": {
        "colab": {
          "base_uri": "https://localhost:8080/"
        },
        "id": "BzsOP4ARf2ne",
        "outputId": "17a43f08-1603-45a3-bae3-82764e2619a9"
      },
      "source": [
        "from numpy import * \n",
        "m = array([['Mon',18,20,22,17],['Tue',11,18,21,18],\n",
        "   ['Wed',15,21,20,19],['Thu',11,20,22,21],\n",
        "   ['Fri',18,17,23,22],['Sat',12,22,20,18],\n",
        "   ['Sun',13,15,19,16]])\n",
        "m[3] = ['Thu',0,0,0,0]\n",
        "\n",
        "print(m)"
      ],
      "execution_count": 8,
      "outputs": [
        {
          "output_type": "stream",
          "name": "stdout",
          "text": [
            "[['Mon' '18' '20' '22' '17']\n",
            " ['Tue' '11' '18' '21' '18']\n",
            " ['Wed' '15' '21' '20' '19']\n",
            " ['Thu' '0' '0' '0' '0']\n",
            " ['Fri' '18' '17' '23' '22']\n",
            " ['Sat' '12' '22' '20' '18']\n",
            " ['Sun' '13' '15' '19' '16']]\n"
          ]
        }
      ]
    }
  ]
}