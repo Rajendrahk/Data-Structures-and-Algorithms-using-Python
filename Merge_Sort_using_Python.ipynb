{
  "nbformat": 4,
  "nbformat_minor": 0,
  "metadata": {
    "colab": {
      "name": "Merge Sort using Python.ipynb",
      "provenance": []
    },
    "kernelspec": {
      "name": "python3",
      "display_name": "Python 3"
    },
    "language_info": {
      "name": "python"
    }
  },
  "cells": [
    {
      "cell_type": "code",
      "execution_count": 1,
      "metadata": {
        "colab": {
          "base_uri": "https://localhost:8080/"
        },
        "id": "MfWZggnYRdNq",
        "outputId": "16bffc65-9ad1-47c8-9f7d-89c8c8f42741"
      },
      "outputs": [
        {
          "output_type": "stream",
          "name": "stdout",
          "text": [
            "Given array is\n",
            "12 11 13 5 6 7 \n",
            "Sorted array is: \n",
            "5 6 7 11 12 13 \n"
          ]
        }
      ],
      "source": [
        "# Python program for implementation of MergeSort\n",
        "def mergeSort(arr):\n",
        "\tif len(arr) > 1:\n",
        "\n",
        "\t\t# Finding the mid of the array\n",
        "\t\tmid = len(arr)//2\n",
        "\n",
        "\t\t# Dividing the array elements\n",
        "\t\tL = arr[:mid]\n",
        "\n",
        "\t\t# into 2 halves\n",
        "\t\tR = arr[mid:]\n",
        "\n",
        "\t\t# Sorting the first half\n",
        "\t\tmergeSort(L)\n",
        "\n",
        "\t\t# Sorting the second half\n",
        "\t\tmergeSort(R)\n",
        "\n",
        "\t\ti = j = k = 0\n",
        "\n",
        "\t\t# Copy data to temp arrays L[] and R[]\n",
        "\t\twhile i < len(L) and j < len(R):\n",
        "\t\t\tif L[i] < R[j]:\n",
        "\t\t\t\tarr[k] = L[i]\n",
        "\t\t\t\ti += 1\n",
        "\t\t\telse:\n",
        "\t\t\t\tarr[k] = R[j]\n",
        "\t\t\t\tj += 1\n",
        "\t\t\tk += 1\n",
        "\n",
        "\t\t# Checking if any element was left\n",
        "\t\twhile i < len(L):\n",
        "\t\t\tarr[k] = L[i]\n",
        "\t\t\ti += 1\n",
        "\t\t\tk += 1\n",
        "\n",
        "\t\twhile j < len(R):\n",
        "\t\t\tarr[k] = R[j]\n",
        "\t\t\tj += 1\n",
        "\t\t\tk += 1\n",
        "\n",
        "# Code to print the list\n",
        "\n",
        "\n",
        "def printList(arr):\n",
        "\tfor i in range(len(arr)):\n",
        "\t\tprint(arr[i], end=\" \")\n",
        "\tprint()\n",
        "\n",
        "\n",
        "# Driver Code\n",
        "if __name__ == '__main__':\n",
        "\tarr = [12, 11, 13, 5, 6, 7]\n",
        "\tprint(\"Given array is\", end=\"\\n\")\n",
        "\tprintList(arr)\n",
        "\tmergeSort(arr)\n",
        "\tprint(\"Sorted array is: \", end=\"\\n\")\n",
        "\tprintList(arr)\n",
        "\n",
        "\n"
      ]
    }
  ]
}