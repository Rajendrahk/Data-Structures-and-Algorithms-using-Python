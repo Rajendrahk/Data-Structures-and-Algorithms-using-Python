{
  "nbformat": 4,
  "nbformat_minor": 0,
  "metadata": {
    "colab": {
      "name": "Queue.ipynb",
      "provenance": []
    },
    "kernelspec": {
      "name": "python3",
      "display_name": "Python 3"
    },
    "language_info": {
      "name": "python"
    }
  },
  "cells": [
    {
      "cell_type": "markdown",
      "source": [
        "**Array implementation Of Queue** \n",
        "\n",
        "For implementing queue, we need to keep track of two indices, front and rear. We enqueue an item at the rear and dequeue an item from the front. If we simply increment front and rear indices, then there may be problems, the front may reach the end of the array. The solution to this problem is to increase front and rear in circular manner.\n",
        "\n",
        "**Steps for ENQUEUE**\n",
        "\n",
        "1. Check the queue is full or not\n",
        "2. If full, print overflow and exit\n",
        "3. If queue is not full, increment tail and add the element\n",
        "\n",
        "**Steps for DEQUEUE**\n",
        "\n",
        "1. Check queue is empty or not\n",
        "2. If empty, print underflow and exit\n",
        "3. If not empty, print element at the head and increment head"
      ],
      "metadata": {
        "id": "0Lupt3Wandcd"
      }
    },
    {
      "cell_type": "code",
      "execution_count": 1,
      "metadata": {
        "colab": {
          "base_uri": "https://localhost:8080/"
        },
        "id": "fVQMYPwGkQXw",
        "outputId": "f7a0b1fd-1b74-48bb-ef8b-b819a5cab448"
      },
      "outputs": [
        {
          "output_type": "stream",
          "name": "stdout",
          "text": [
            "10 enqueued to queue\n",
            "20 enqueued to queue\n",
            "30 enqueued to queue\n",
            "40 enqueued to queue\n",
            "10 dequeued from queue\n",
            "Front item is 20\n",
            "Rear item is 40\n"
          ]
        }
      ],
      "source": [
        "# Python3 program for array implementation of queue\n",
        "\n",
        "# Class Queue to represent a queue\n",
        "class Queue:\n",
        "\n",
        "\t# __init__ function\n",
        "\tdef __init__(self, capacity):\n",
        "\t\tself.front = self.size = 0\n",
        "\t\tself.rear = capacity -1\n",
        "\t\tself.Q = [None]*capacity\n",
        "\t\tself.capacity = capacity\n",
        "\t\n",
        "\t# Queue is full when size becomes\n",
        "\t# equal to the capacity\n",
        "\tdef isFull(self):\n",
        "\t\treturn self.size == self.capacity\n",
        "\t\n",
        "\t# Queue is empty when size is 0\n",
        "\tdef isEmpty(self):\n",
        "\t\treturn self.size == 0\n",
        "\n",
        "\t# Function to add an item to the queue.\n",
        "\t# It changes rear and size\n",
        "\tdef EnQueue(self, item):\n",
        "\t\tif self.isFull():\n",
        "\t\t\tprint(\"Full\")\n",
        "\t\t\treturn\n",
        "\t\tself.rear = (self.rear + 1) % (self.capacity)\n",
        "\t\tself.Q[self.rear] = item\n",
        "\t\tself.size = self.size + 1\n",
        "\t\tprint(\"% s enqueued to queue\" % str(item))\n",
        "\n",
        "\t# Function to remove an item from queue.\n",
        "\t# It changes front and size\n",
        "\tdef DeQueue(self):\n",
        "\t\tif self.isEmpty():\n",
        "\t\t\tprint(\"Empty\")\n",
        "\t\t\treturn\n",
        "\t\t\n",
        "\t\tprint(\"% s dequeued from queue\" % str(self.Q[self.front]))\n",
        "\t\tself.front = (self.front + 1) % (self.capacity)\n",
        "\t\tself.size = self.size -1\n",
        "\t\t\n",
        "\t# Function to get front of queue\n",
        "\tdef que_front(self):\n",
        "\t\tif self.isEmpty():\n",
        "\t\t\tprint(\"Queue is empty\")\n",
        "\n",
        "\t\tprint(\"Front item is\", self.Q[self.front])\n",
        "\t\t\n",
        "\t# Function to get rear of queue\n",
        "\tdef que_rear(self):\n",
        "\t\tif self.isEmpty():\n",
        "\t\t\tprint(\"Queue is empty\")\n",
        "\t\tprint(\"Rear item is\", self.Q[self.rear])\n",
        "\n",
        "\n",
        "# Driver Code\n",
        "if __name__ == '__main__':\n",
        "\n",
        "# Create a new queue of\n",
        "    # capacity 30\n",
        "\tqueue = Queue(30)\n",
        " # Inserting elements in the queue\n",
        "\tqueue.EnQueue(10)\n",
        "\tqueue.EnQueue(20)\n",
        "\tqueue.EnQueue(30)\n",
        "\tqueue.EnQueue(40)\n",
        " # Delete an element in the queue\n",
        "\tqueue.DeQueue()\n",
        " # Print front of queue\n",
        "\tqueue.que_front()\n",
        " # Print rear of queue\n",
        "\tqueue.que_rear()\n"
      ]
    },
    {
      "cell_type": "markdown",
      "source": [
        "# Queue – Linked List Implementation\n",
        "\n",
        "In a Queue data structure, we maintain two pointers, front and rear. The front points the first item of queue and rear points to last item.\n",
        "\n",
        "**enQueue()** This operation adds a new node after rear and moves rear to the next node.\n",
        "\n",
        "**deQueue()** This operation removes the front node and moves front to the next node."
      ],
      "metadata": {
        "id": "u1yymvrBnBVq"
      }
    },
    {
      "cell_type": "code",
      "source": [
        "# Python3 program to demonstrate linked list\n",
        "# based implementation of queue\n",
        "\n",
        "# A linked list (LL) node\n",
        "# to store a queue entry\n",
        "class Node:\n",
        "\t\n",
        "\tdef __init__(self, data):\n",
        "\t\tself.data = data\n",
        "\t\tself.next = None\n",
        "\n",
        "# A class to represent a queue\n",
        "\n",
        "# The queue, front stores the front node\n",
        "# of LL and rear stores the last node of LL\n",
        "class Queue:\n",
        "\t\n",
        "\tdef __init__(self):\n",
        "\t\tself.front = self.rear = None\n",
        "\n",
        "\tdef isEmpty(self):\n",
        "\t\treturn self.front == None\n",
        "\t\n",
        "\t# Method to add an item to the queue\n",
        "\tdef EnQueue(self, item):\n",
        "\t\ttemp = Node(item)\n",
        "\t\t\n",
        "\t\tif self.rear == None:\n",
        "\t\t\tself.front = self.rear = temp\n",
        "\t\t\treturn\n",
        "\t\tself.rear.next = temp\n",
        "\t\tself.rear = temp\n",
        "\n",
        "\t# Method to remove an item from queue\n",
        "\tdef DeQueue(self):\n",
        "\t\t\n",
        "\t\tif self.isEmpty():\n",
        "\t\t\treturn\n",
        "\t\ttemp = self.front\n",
        "\t\tself.front = temp.next\n",
        "\n",
        "\t\tif(self.front == None):\n",
        "\t\t\tself.rear = None\n",
        "\n",
        "# Driver Code\n",
        "if __name__== '__main__':\n",
        "\tq = Queue()\n",
        "\tq.EnQueue(10)\n",
        "\tq.EnQueue(20)\n",
        "\tq.DeQueue()\n",
        "\tq.DeQueue()\n",
        "\tq.EnQueue(30)\n",
        "\tq.EnQueue(40)\n",
        "\tq.EnQueue(50)\n",
        "\tq.DeQueue()\n",
        "\tprint(\"Queue Front \" + str(q.front.data))\n",
        "\tprint(\"Queue Rear \" + str(q.rear.data))\n",
        "\t\n"
      ],
      "metadata": {
        "colab": {
          "base_uri": "https://localhost:8080/"
        },
        "id": "tPXioEENmpaU",
        "outputId": "ef6f21e8-d2e2-4027-a6f0-b06a16f648af"
      },
      "execution_count": 2,
      "outputs": [
        {
          "output_type": "stream",
          "name": "stdout",
          "text": [
            "Queue Front 40\n",
            "Queue Rear 50\n"
          ]
        }
      ]
    }
  ]
}