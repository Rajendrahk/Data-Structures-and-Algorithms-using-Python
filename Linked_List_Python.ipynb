{
  "nbformat": 4,
  "nbformat_minor": 0,
  "metadata": {
    "colab": {
      "name": "Linked List.ipynb",
      "provenance": []
    },
    "kernelspec": {
      "name": "python3",
      "display_name": "Python 3"
    },
    "language_info": {
      "name": "python"
    }
  },
  "cells": [
    {
      "cell_type": "markdown",
      "source": [
        "LinkedList can be represented as a class and a Node as a separate class. The LinkedList class contains a reference of Node class type. "
      ],
      "metadata": {
        "id": "MMTV8BTEGOHl"
      }
    },
    {
      "cell_type": "code",
      "execution_count": null,
      "metadata": {
        "id": "5mfeQv8QCinj"
      },
      "outputs": [],
      "source": [
        "# Node class\n",
        "class Node:\n",
        "\n",
        "\t# Function to initialize the node object\n",
        "\tdef __init__(self, data):\n",
        "\t\tself.data = data # Assign data\n",
        "\t\tself.next = None # Initialize\n",
        "\t\t\t\t\t\t# next as null\n",
        "\n",
        "# Linked List class\n",
        "class LinkedList:\n",
        "\t\n",
        "\t# Function to initialize the Linked\n",
        "\t# List object\n",
        "\tdef __init__(self):\n",
        "\t\tself.head = None\n"
      ]
    },
    {
      "cell_type": "markdown",
      "source": [
        "# Linked List Traversal \n",
        "\n",
        "In the previous program, we have created a simple linked list with three nodes. Let us traverse the created list and print the data of each node. For traversal, let us write a general-purpose function printList() that prints any given list."
      ],
      "metadata": {
        "id": "DuFZ6eLFFLJq"
      }
    },
    {
      "cell_type": "code",
      "source": [
        "# A simple Python program for traversal of a linked list\n",
        "\n",
        "# Node class\n",
        "class Node:\n",
        "\n",
        "\t# Function to initialise the node object\n",
        "\tdef __init__(self, data):\n",
        "\t\tself.data = data # Assign data\n",
        "\t\tself.next = None # Initialize next as null\n",
        "\n",
        "\n",
        "# Linked List class contains a Node object\n",
        "class LinkedList:\n",
        "\n",
        "\t# Function to initialize head\n",
        "\tdef __init__(self):\n",
        "\t\tself.head = None\n",
        "\n",
        "\t# This function prints contents of linked list\n",
        "\t# starting from head\n",
        "\tdef printList(self):\n",
        "\t\ttemp = self.head\n",
        "\t\twhile (temp):\n",
        "\t\t\tprint (temp.data)\n",
        "\t\t\ttemp = temp.next\n",
        "\n",
        "\n",
        "# Code execution starts here\n",
        "if __name__=='__main__':\n",
        "\n",
        "\t# Start with the empty list\n",
        "\tllist = LinkedList()\n",
        "\n",
        "\tllist.head = Node(1)\n",
        "\tsecond = Node(2)\n",
        "\tthird = Node(3)\n",
        "\n",
        "\tllist.head.next = second; # Link first node with second\n",
        "\tsecond.next = third; # Link second node with the third node\n",
        "\n",
        "\tllist.printList()\n"
      ],
      "metadata": {
        "colab": {
          "base_uri": "https://localhost:8080/"
        },
        "id": "EWTiLjafEmwQ",
        "outputId": "a1c0d677-4672-4037-8611-9d191411af4a"
      },
      "execution_count": null,
      "outputs": [
        {
          "output_type": "stream",
          "name": "stdout",
          "text": [
            "1\n",
            "2\n",
            "3\n"
          ]
        }
      ]
    },
    {
      "cell_type": "markdown",
      "source": [
        "**Inserting a node in Linked List**"
      ],
      "metadata": {
        "id": "pOz41JtUMyWd"
      }
    },
    {
      "cell_type": "code",
      "source": [
        "# A complete working Python program to demonstrate all\n",
        "# insertion methods of linked list\n",
        "\n",
        "# Node class\n",
        "class Node:\n",
        "\n",
        "\t# Function to initialise the node object\n",
        "\tdef __init__(self, data):\n",
        "\t\tself.data = data # Assign data\n",
        "\t\tself.next = None # Initialize next as null\n",
        "\n",
        "\n",
        "# Linked List class contains a Node object\n",
        "class LinkedList:\n",
        "\n",
        "\t# Function to initialize head\n",
        "\tdef __init__(self):\n",
        "\t\tself.head = None\n",
        "\n",
        "\n",
        "\t# Function to insert a new node at the beginning\n",
        "\tdef push(self, new_data):\n",
        "\n",
        "\t\t# 1 & 2: Allocate the Node &\n",
        "\t\t#\t Put in the data\n",
        "\t\tnew_node = Node(new_data)\n",
        "\n",
        "\t\t# 3. Make next of new Node as head\n",
        "\t\tnew_node.next = self.head\n",
        "\n",
        "\t\t# 4. Move the head to point to new Node\n",
        "\t\tself.head = new_node\n",
        "\n",
        "\n",
        "\t# This function is in LinkedList class. Inserts a\n",
        "\t# new node after the given prev_node. This method is\n",
        "\t# defined inside LinkedList class shown above */\n",
        "\tdef insertAfter(self, prev_node, new_data):\n",
        "\n",
        "\t\t# 1. check if the given prev_node exists\n",
        "\t\tif prev_node is None:\n",
        "\t\t\tprint(\"The given previous node must inLinkedList.\")\n",
        "\t\t\treturn\n",
        "\n",
        "\t\t# 2. create new node &\n",
        "\t\t#\t Put in the data\n",
        "\t\tnew_node = Node(new_data)\n",
        "\n",
        "\t\t# 4. Make next of new Node as next of prev_node\n",
        "\t\tnew_node.next = prev_node.next\n",
        "\n",
        "\t\t# 5. make next of prev_node as new_node\n",
        "\t\tprev_node.next = new_node\n",
        "\n",
        "\n",
        "\t# This function is defined in Linked List class\n",
        "\t# Appends a new node at the end. This method is\n",
        "\t# defined inside LinkedList class shown above */\n",
        "\tdef append(self, new_data):\n",
        "\n",
        "\t\t# 1. Create a new node\n",
        "\t\t# 2. Put in the data\n",
        "\t\t# 3. Set next as None\n",
        "\t\tnew_node = Node(new_data)\n",
        "\n",
        "\t\t# 4. If the Linked List is empty, then make the\n",
        "\t\t# new node as head\n",
        "\t\tif self.head is None:\n",
        "\t\t\tself.head = new_node\n",
        "\t\t\treturn\n",
        "\n",
        "\t\t# 5. Else traverse till the last node\n",
        "\t\tlast = self.head\n",
        "\t\twhile (last.next):\n",
        "\t\t\tlast = last.next\n",
        "\n",
        "\t\t# 6. Change the next of last node\n",
        "\t\tlast.next = new_node\n",
        "\n",
        "\n",
        "\t# Utility function to print the linked list\n",
        "\tdef printList(self):\n",
        "\t\ttemp = self.head\n",
        "\t\twhile (temp):\n",
        "\t\t\tprint(temp.data,end=\" \")\n",
        "\t\t\ttemp = temp.next\n",
        "\n",
        "\n",
        "\n",
        "# Code execution starts here\n",
        "if __name__=='__main__':\n",
        "\n",
        "\t# Start with the empty list\n",
        "\tllist = LinkedList()\n",
        "\n",
        "\t# Insert 6. So linked list becomes 6->None\n",
        "\tllist.append(6)\n",
        "\n",
        "\t# Insert 7 at the beginning. So linked list becomes 7->6->None\n",
        "\tllist.push(7);\n",
        "\n",
        "\t# Insert 1 at the beginning. So linked list becomes 1->7->6->None\n",
        "\tllist.push(1);\n",
        "\n",
        "\t# Insert 4 at the end. So linked list becomes 1->7->6->4->None\n",
        "\tllist.append(4)\n",
        "\n",
        "\t# Insert 8, after 7. So linked list becomes 1 -> 7-> 8-> 6-> 4-> None\n",
        "\tllist.insertAfter(llist.head.next, 8)\n",
        "\n",
        "\tprint('Created linked list is: ')\n",
        "\tllist.printList()\n",
        "\n",
        "\n"
      ],
      "metadata": {
        "colab": {
          "base_uri": "https://localhost:8080/"
        },
        "id": "elcEsjDQHJtw",
        "outputId": "ea96bbfb-5449-40da-f78d-e0504a98eae0"
      },
      "execution_count": null,
      "outputs": [
        {
          "output_type": "stream",
          "name": "stdout",
          "text": [
            "Created linked list is: \n",
            "1 7 8 6 4 "
          ]
        }
      ]
    },
    {
      "cell_type": "markdown",
      "source": [
        "**Deleting a node in Linked List**"
      ],
      "metadata": {
        "id": "IJUB46fdLEd_"
      }
    },
    {
      "cell_type": "code",
      "source": [
        "# A complete working Python3 program to\n",
        "# demonstrate deletion in singly\n",
        "# linked list with class\n",
        "\n",
        "# Node class\n",
        "class Node:\n",
        "\n",
        "\t# Constructor to initialize the node object\n",
        "\tdef __init__(self, data):\n",
        "\t\tself.data = data\n",
        "\t\tself.next = None\n",
        "\n",
        "class LinkedList:\n",
        "\n",
        "\t# Function to initialize head\n",
        "\tdef __init__(self):\n",
        "\t\tself.head = None\n",
        "\n",
        "\t# Function to insert a new node at the beginning\n",
        "\tdef push(self, new_data):\n",
        "\t\tnew_node = Node(new_data)\n",
        "\t\tnew_node.next = self.head\n",
        "\t\tself.head = new_node\n",
        "\n",
        "\t# Given a reference to the head of a list and a key,\n",
        "\t# delete the first occurrence of key in linked list\n",
        "\tdef deleteNode(self, key):\n",
        "\t\t\n",
        "\t\t# Store head node\n",
        "\t\ttemp = self.head\n",
        "\n",
        "\t\t# If head node itself holds the key to be deleted\n",
        "\t\tif (temp is not None):\n",
        "\t\t\tif (temp.data == key):\n",
        "\t\t\t\tself.head = temp.next\n",
        "\t\t\t\ttemp = None\n",
        "\t\t\t\treturn\n",
        "\n",
        "\t\t# Search for the key to be deleted, keep track of the\n",
        "\t\t# previous node as we need to change 'prev.next'\n",
        "\t\twhile(temp is not None):\n",
        "\t\t\tif temp.data == key:\n",
        "\t\t\t\tbreak\n",
        "\t\t\tprev = temp\n",
        "\t\t\ttemp = temp.next\n",
        "\n",
        "\t\t# if key was not present in linked list\n",
        "\t\tif(temp == None):\n",
        "\t\t\treturn\n",
        "\n",
        "\t\t# Unlink the node from linked list\n",
        "\t\tprev.next = temp.next\n",
        "\n",
        "\t\ttemp = None\n",
        "\n",
        "\n",
        "\t# Utility function to print the linked LinkedList\n",
        "\tdef printList(self):\n",
        "\t\ttemp = self.head\n",
        "\t\twhile(temp):\n",
        "\t\t\tprint (\" %d\" %(temp.data)),\n",
        "\t\t\ttemp = temp.next\n",
        "\n",
        "\n",
        "# Driver program\n",
        "llist = LinkedList()\n",
        "llist.push(7)\n",
        "llist.push(1)\n",
        "llist.push(3)\n",
        "llist.push(2)\n",
        "\n",
        "print (\"Created Linked List: \")\n",
        "llist.printList()\n",
        "llist.deleteNode(1)\n",
        "print (\"\\nLinked List after Deletion of 1:\")\n",
        "llist.printList()\n",
        "\n"
      ],
      "metadata": {
        "colab": {
          "base_uri": "https://localhost:8080/"
        },
        "id": "rOrdD0mXK4gC",
        "outputId": "e8507d3d-eab2-469a-f5dc-8d6feb0a2972"
      },
      "execution_count": null,
      "outputs": [
        {
          "output_type": "stream",
          "name": "stdout",
          "text": [
            "Created Linked List: \n",
            " 2\n",
            " 3\n",
            " 1\n",
            " 7\n",
            "\n",
            "Linked List after Deletion of 1:\n",
            " 2\n",
            " 3\n",
            " 7\n"
          ]
        }
      ]
    },
    {
      "cell_type": "markdown",
      "source": [
        "**Delete a Linked List node at a given position**"
      ],
      "metadata": {
        "id": "d-Tw9a2cOWOl"
      }
    },
    {
      "cell_type": "code",
      "source": [
        "# Python program to delete a node in a linked list\n",
        "# at a given position\n",
        "\n",
        "# Node class\n",
        "\n",
        "\n",
        "class Node:\n",
        "\n",
        "\t# Constructor to initialize the node object\n",
        "\tdef __init__(self, data):\n",
        "\t\tself.data = data\n",
        "\t\tself.next = None\n",
        "\n",
        "\n",
        "class LinkedList:\n",
        "\n",
        "\t# Constructor to initialize head\n",
        "\tdef __init__(self):\n",
        "\t\tself.head = None\n",
        "\n",
        "\t# Function to insert a new node at the beginning\n",
        "\tdef push(self, new_data):\n",
        "\t\tnew_node = Node(new_data)\n",
        "\t\tnew_node.next = self.head\n",
        "\t\tself.head = new_node\n",
        "\n",
        "\t# Given a reference to the head of a list\n",
        "\t# and a position, delete the node at a given position\n",
        "\t\n",
        "\tdef deleteNode(self, position):\n",
        "\t\tif self.head is None:\n",
        "\t\t\treturn\n",
        "\t\tif position == 0:\n",
        "\t\t\tself.head = self.head.next\n",
        "\t\t\treturn self.head\n",
        "\t\tindex = 0\n",
        "\t\tcurrent = self.head\n",
        "\t\tprev = self.head\n",
        "\t\ttemp = self.head\n",
        "\t\twhile current is not None:\n",
        "\t\t\tif index == position:\n",
        "\t\t\t\ttemp = current.next\n",
        "\t\t\t\tbreak\n",
        "\t\t\tprev = current\n",
        "\t\t\tcurrent = current.next\n",
        "\t\t\tindex += 1\n",
        "\t\tprev.next = temp\n",
        "\t\treturn prev\n",
        "\n",
        "\t# Utility function to print the LinkedList\n",
        "\n",
        "\tdef printList(self):\n",
        "\t\ttemp = self.head\n",
        "\t\twhile(temp):\n",
        "\t\t\tprint (\" %d \" % (temp.data),end=\" \")\n",
        "\t\t\ttemp = temp.next\n",
        "\n",
        "\n",
        "# Driver program to test above function\n",
        "llist = LinkedList()\n",
        "llist.push(7)\n",
        "llist.push(1)\n",
        "llist.push(3)\n",
        "llist.push(2)\n",
        "llist.push(8)\n",
        "\n",
        "print (\"Created Linked List: \")\n",
        "llist.printList()\n",
        "llist.deleteNode(4)\n",
        "print (\"\\nLinked List after Deletion at position 4: \")\n",
        "llist.printList()\n",
        "\n",
        "\n"
      ],
      "metadata": {
        "colab": {
          "base_uri": "https://localhost:8080/"
        },
        "id": "JEPrRRYUNnYg",
        "outputId": "62ff9073-aae0-4866-8d77-dca3005ae46b"
      },
      "execution_count": null,
      "outputs": [
        {
          "output_type": "stream",
          "name": "stdout",
          "text": [
            "Created Linked List: \n",
            " 8   2   3   1   7  \n",
            "Linked List after Deletion at position 4: \n",
            " 8   2   3   1  "
          ]
        }
      ]
    },
    {
      "cell_type": "markdown",
      "source": [
        "**Sorted Insertion Operations in Linked List**"
      ],
      "metadata": {
        "id": "yC0S9e9H_zHJ"
      }
    },
    {
      "cell_type": "code",
      "source": [
        "# Node class\n",
        "class Node:\n",
        "\n",
        "\t# Constructor to initialize the node object\n",
        "\tdef __init__(self, data):\n",
        "\t\tself.data = data\n",
        "\t\tself.next = None\n",
        "\n",
        "class LinkedList:\n",
        "\n",
        "\t# Function to initialize head\n",
        "\tdef __init__(self):\n",
        "\t\tself.head = None\n",
        "\n",
        "\t# Function to insert a new node at the beginning\n",
        "\tdef push(self, new_data):\n",
        "\t\tnew_node = Node(new_data)\n",
        "\t\tnew_node.next = self.head\n",
        "\t\tself.head = new_node\n",
        "\n",
        "\t# Utility function to print the linked LinkedList\n",
        "\tdef printList(self):\n",
        "\t\ttemp = self.head\n",
        "\t\tprint(temp.data,end=' ')\n",
        "\t\ttemp = temp.next\n",
        "\t\twhile(temp != self.head):\n",
        "\t\t\tprint (temp.data,end=' ')\n",
        "\t\t\ttemp = temp.next\n",
        "\n",
        "\t\"\"\" function to insert a new_node in a list in sorted way.\n",
        "\tNote that this function expects a pointer to head node\n",
        "\tas this can modify the head of the input linked list \"\"\"\n",
        "\tdef sortedInsert(self, new_node):\n",
        "\t\t\n",
        "\t\tcurrent = self.head\n",
        "\n",
        "\t\t# Case 1 of the above algo\n",
        "\t\tif current is None:\n",
        "\t\t\tnew_node.next = new_node\n",
        "\t\t\tself.head = new_node\n",
        "\t\t\n",
        "\t\t# Case 2 of the above algo\n",
        "\t\telif (current.data >= new_node.data):\n",
        "\t\t\t\n",
        "\t\t\t# If value is smaller than head's value then we\n",
        "\t\t\t# need to change next of last node\n",
        "\t\t\twhile current.next != self.head :\n",
        "\t\t\t\tcurrent = current.next\n",
        "\t\t\tcurrent.next = new_node\n",
        "\t\t\tnew_node.next = self.head\n",
        "\t\t\tself.head = new_node\t\t\n",
        "\n",
        "\t\t\n",
        "\t\t# Case 3 of the above algo\n",
        "\t\telse:\n",
        "\t\t\t\n",
        "\t\t\t# Locate the node before the point of insertion\n",
        "\t\t\twhile (current.next != self.head and\n",
        "\t\t\t\tcurrent.next.data < new_node.data):\n",
        "\t\t\t\tcurrent = current.next\n",
        "\n",
        "\t\t\tnew_node.next = current.next\n",
        "\t\t\tcurrent.next = new_node\n",
        "\n",
        "\n",
        "# Driver program to test the above function\n",
        "#llist = LinkedList()\n",
        "arr = [12, 56, 2, 11, 1, 90]\n",
        "\n",
        "list_size = len(arr)\n",
        "\n",
        "# start with empty linked list\n",
        "start = LinkedList()\n",
        "\n",
        "# Create linked list from the array arr[]\n",
        "# Created linked list will be 1->2->11->12->56->90\n",
        "for i in range(list_size):\n",
        "\ttemp = Node(arr[i])\n",
        "\tstart.sortedInsert(temp)\n",
        "\n",
        "start.printList()\n",
        "\n",
        "\n"
      ],
      "metadata": {
        "colab": {
          "base_uri": "https://localhost:8080/"
        },
        "id": "mXnbBCHf_qmt",
        "outputId": "1be5b76a-3f14-4b36-823d-2009fb66c9c0"
      },
      "execution_count": 1,
      "outputs": [
        {
          "output_type": "stream",
          "name": "stdout",
          "text": [
            "1 2 11 12 56 90 "
          ]
        }
      ]
    }
  ]
}