{
  "nbformat": 4,
  "nbformat_minor": 0,
  "metadata": {
    "colab": {
      "name": "Python - Maps.ipynb",
      "provenance": []
    },
    "kernelspec": {
      "name": "python3",
      "display_name": "Python 3"
    },
    "language_info": {
      "name": "python"
    }
  },
  "cells": [
    {
      "cell_type": "markdown",
      "metadata": {
        "id": "t8MKBD2xNvS-"
      },
      "source": [
        "Python Maps also called ChainMap is a type of data structure to manage multiple dictionaries together as one unit. The combined dictionary contains the key and value pairs in a specific sequence eliminating any duplicate keys. The best use of ChainMap is to search through multiple dictionaries at a time and get the proper key-value pair mapping. We also see that these ChainMaps behave as stack data structure.\n",
        "\n",
        "**Creating a ChainMap**\n",
        "\n",
        "We create two dictionaries and club them using the ChainMap method from the collections library. Then we print the keys and values of the result of the combination of the dictionaries. If there are duplicate keys, then only the value from the first key is preserved.\n",
        "\n",
        "**Example**"
      ]
    },
    {
      "cell_type": "code",
      "metadata": {
        "colab": {
          "base_uri": "https://localhost:8080/"
        },
        "id": "ztHe6jnLNpiJ",
        "outputId": "dc702b79-2b37-49aa-b6fc-7c5c8ce06b56"
      },
      "source": [
        "import collections\n",
        "\n",
        "dict1 = {'day1': 'Mon', 'day2': 'Tue'}\n",
        "dict2 = {'day3': 'Wed', 'day1': 'Thu'}\n",
        "\n",
        "res = collections.ChainMap(dict1, dict2)\n",
        "\n",
        "# Creating a single dictionary\n",
        "print(res.maps,'\\n')\n",
        "print('Keys = {}'.format(list(res.keys())))\n",
        "print('Values = {}'.format(list(res.values())))\n",
        "print()\n",
        "\n",
        "# Print all the elements from the result\n",
        "print('elements:')\n",
        "for key, val in res.items():\n",
        "   print('{} = {}'.format(key, val))\n",
        "print()\n",
        "\n",
        "# Find a specific value in the result\n",
        "print('day3 in res: {}'.format(('day1' in res)))\n",
        "print('day4 in res: {}'.format(('day4' in res)))"
      ],
      "execution_count": 6,
      "outputs": [
        {
          "output_type": "stream",
          "name": "stdout",
          "text": [
            "[{'day1': 'Mon', 'day2': 'Tue'}, {'day3': 'Wed', 'day1': 'Thu'}] \n",
            "\n",
            "Keys = ['day3', 'day1', 'day2']\n",
            "Values = ['Wed', 'Mon', 'Tue']\n",
            "\n",
            "elements:\n",
            "day3 = Wed\n",
            "day1 = Mon\n",
            "day2 = Tue\n",
            "\n",
            "day3 in res: True\n",
            "day4 in res: False\n"
          ]
        }
      ]
    },
    {
      "cell_type": "markdown",
      "metadata": {
        "id": "dfChtcQSPcT9"
      },
      "source": [
        "**Map Reordering**\n",
        "\n",
        "If we change the order the dictionaries while clubbing them in the above example we see that the position of the elements get interchanged as if they are in a continuous chain. This again shows the behavior of Maps as stacks.\n",
        "\n",
        "**Example**"
      ]
    },
    {
      "cell_type": "code",
      "metadata": {
        "colab": {
          "base_uri": "https://localhost:8080/"
        },
        "id": "OyjQEzpMPg6m",
        "outputId": "7bb672f8-0a47-4155-f054-c3ac54407ea8"
      },
      "source": [
        "import collections\n",
        "\n",
        "dict1 = {'day1': 'Mon', 'day2': 'Tue'}\n",
        "dict2 = {'day3': 'Wed', 'day4': 'Thu'}\n",
        "\n",
        "res1 = collections.ChainMap(dict1, dict2)\n",
        "print(res1.maps,'\\n')\n",
        "\n",
        "res2 = collections.ChainMap(dict2, dict1)\n",
        "print(res2.maps,'\\n')"
      ],
      "execution_count": 2,
      "outputs": [
        {
          "output_type": "stream",
          "name": "stdout",
          "text": [
            "[{'day1': 'Mon', 'day2': 'Tue'}, {'day3': 'Wed', 'day4': 'Thu'}] \n",
            "\n",
            "[{'day3': 'Wed', 'day4': 'Thu'}, {'day1': 'Mon', 'day2': 'Tue'}] \n",
            "\n"
          ]
        }
      ]
    },
    {
      "cell_type": "markdown",
      "metadata": {
        "id": "kjpfn52yOeKm"
      },
      "source": [
        "**Updating Map**\n",
        "\n",
        "When the element of the dictionary is updated, the result is instantly updated in the result of the ChainMap. In the below example we see that the new updated value reflects in the result without explicitly applying the ChainMap method again.\n",
        "\n",
        "**Example**"
      ]
    },
    {
      "cell_type": "code",
      "metadata": {
        "colab": {
          "base_uri": "https://localhost:8080/"
        },
        "id": "XN194mwjOnAS",
        "outputId": "42c30b85-71e3-43fc-9fd3-380543307357"
      },
      "source": [
        "import collections\n",
        "\n",
        "dict1 = {'day1': 'Mon', 'day2': 'Tue'}\n",
        "dict2 = {'day3': 'Wed', 'day4': 'Thu'}\n",
        "\n",
        "res = collections.ChainMap(dict1, dict2)\n",
        "print(res.maps,'\\n')\n",
        "\n",
        "dict2['day4'] = 'Fri'\n",
        "print(res.maps,'\\n')"
      ],
      "execution_count": 1,
      "outputs": [
        {
          "output_type": "stream",
          "name": "stdout",
          "text": [
            "[{'day1': 'Mon', 'day2': 'Tue'}, {'day3': 'Wed', 'day4': 'Thu'}] \n",
            "\n",
            "[{'day1': 'Mon', 'day2': 'Tue'}, {'day3': 'Wed', 'day4': 'Fri'}] \n",
            "\n"
          ]
        }
      ]
    }
  ]
}