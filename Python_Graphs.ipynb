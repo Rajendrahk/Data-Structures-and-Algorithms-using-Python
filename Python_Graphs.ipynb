{
  "nbformat": 4,
  "nbformat_minor": 0,
  "metadata": {
    "colab": {
      "name": "Python - Graphs.ipynb",
      "provenance": []
    },
    "kernelspec": {
      "name": "python3",
      "display_name": "Python 3"
    },
    "language_info": {
      "name": "python"
    }
  },
  "cells": [
    {
      "cell_type": "markdown",
      "metadata": {
        "id": "zv7xwNGNSBBV"
      },
      "source": [
        "A graph is a pictorial representation of a set of objects where some pairs of objects are connected by links. The interconnected objects are represented by points termed as vertices, and the links that connect the vertices are called edges. The various terms and functionalities associated with a graph is described in great detail in our tutorial here.\n",
        "\n",
        "In this tutorial we are going to see how to create a graph and add various data elements to it using a python program. Following are the basic operations we perform on graphs.\n",
        "\n",
        "a. **Display graph vertices**\n",
        "\n",
        "b. **Display graph edges**\n",
        "\n",
        "c. **Add a vertex**\n",
        "\n",
        "d. **Add an edge**\n",
        "\n",
        "e. **Creating a graph**\n",
        "\n",
        "A graph can be easily presented using the python dictionary data types. We represent the vertices as the keys of the dictionary and the connection between the vertices also called edges as the values in the dictionary.\n",
        "\n",
        "Take a look at the following graph −"
      ]
    },
    {
      "cell_type": "markdown",
      "metadata": {
        "id": "FiINZNB0Suq-"
      },
      "source": [
        "![graph_basics.jpg](data:image/jpeg;base64,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)"
      ]
    },
    {
      "cell_type": "markdown",
      "metadata": {
        "id": "U0J5bRCaS8Xd"
      },
      "source": [
        "In the above graph,\n",
        "\n",
        "V = {a, b, c, d, e}\n",
        "\n",
        "E = {ab, ac, bd, cd, de}\n",
        "\n",
        "We can present this graph in a python program as below −\n"
      ]
    },
    {
      "cell_type": "code",
      "metadata": {
        "colab": {
          "base_uri": "https://localhost:8080/"
        },
        "id": "5xhKgZtpRG3g",
        "outputId": "6339d175-579e-45e6-f074-d99a219b16d0"
      },
      "source": [
        "# Create the dictionary with graph elements\n",
        "graph = { \n",
        "   \"a\" : [\"b\",\"c\"],\n",
        "   \"b\" : [\"a\", \"d\"],\n",
        "   \"c\" : [\"a\", \"d\"],\n",
        "   \"d\" : [\"e\"],\n",
        "   \"e\" : [\"d\"]\n",
        "}\n",
        "# Print the graph \t\t \n",
        "print(graph)"
      ],
      "execution_count": 2,
      "outputs": [
        {
          "output_type": "stream",
          "name": "stdout",
          "text": [
            "{'a': ['b', 'c'], 'b': ['a', 'd'], 'c': ['a', 'd'], 'd': ['e'], 'e': ['d']}\n"
          ]
        }
      ]
    },
    {
      "cell_type": "markdown",
      "metadata": {
        "id": "f0BivbTEUKA5"
      },
      "source": [
        "**Display Graph Vertices**\n",
        "\n",
        "To display the graph vertices we simple find the keys of the graph dictionary. We use the keys() method."
      ]
    },
    {
      "cell_type": "code",
      "metadata": {
        "colab": {
          "base_uri": "https://localhost:8080/"
        },
        "id": "pqcDOT3IUXZm",
        "outputId": "77423e4b-f2d9-4445-8d63-2d2ee2ed5ae4"
      },
      "source": [
        "class graph:\n",
        "   def __init__(self,gdict=None):\n",
        "      if gdict is None:\n",
        "         gdict = []\n",
        "      self.gdict = gdict\n",
        "# Get the keys of the dictionary\n",
        "   def getVertices(self):\n",
        "      return list(self.gdict.keys())\n",
        "# Create the dictionary with graph elements\n",
        "graph_elements = { \n",
        "   \"a\" : [\"b\",\"c\"],\n",
        "   \"b\" : [\"a\", \"d\"],\n",
        "   \"c\" : [\"a\", \"d\"],\n",
        "   \"d\" : [\"e\"],\n",
        "   \"e\" : [\"d\"]\n",
        "}\n",
        "g = graph(graph_elements)\n",
        "print(g.getVertices())"
      ],
      "execution_count": 3,
      "outputs": [
        {
          "output_type": "stream",
          "name": "stdout",
          "text": [
            "['a', 'b', 'c', 'd', 'e']\n"
          ]
        }
      ]
    },
    {
      "cell_type": "markdown",
      "metadata": {
        "id": "1UvaEh5AX6w6"
      },
      "source": [
        "**Display Graph Edges**\n",
        "\n",
        "Finding the graph edges is little tricker than the vertices as we have to find each of the pairs of vertices which have an edge in between them. So we create an empty list of edges then iterate through the edge values associated with each of the vertices. A list is formed containing the distinct group of edges found from the vertices.\n",
        "\n"
      ]
    },
    {
      "cell_type": "code",
      "metadata": {
        "colab": {
          "base_uri": "https://localhost:8080/"
        },
        "id": "xcb7fNfHYEk5",
        "outputId": "775e0acc-5c65-4c54-8972-9248846b444d"
      },
      "source": [
        "class graph:\n",
        "   def __init__(self,gdict=None):\n",
        "      if gdict is None:\n",
        "         gdict = {}\n",
        "      self.gdict = gdict\n",
        "\n",
        "   def edges(self):\n",
        "      return self.findedges()\n",
        "# Find the distinct list of edges\n",
        "   def findedges(self):\n",
        "      edgename = []\n",
        "      for vrtx in self.gdict:\n",
        "         for nxtvrtx in self.gdict[vrtx]:\n",
        "            if {nxtvrtx, vrtx} not in edgename:\n",
        "               edgename.append({vrtx, nxtvrtx})\n",
        "      return edgename\n",
        "# Create the dictionary with graph elements\n",
        "graph_elements = { \n",
        "   \"a\" : [\"b\",\"c\"],\n",
        "   \"b\" : [\"a\", \"d\"],\n",
        "   \"c\" : [\"a\", \"d\"],\n",
        "   \"d\" : [\"e\"],\n",
        "   \"e\" : [\"d\"]\n",
        "}\n",
        "g = graph(graph_elements)\n",
        "print(g.edges())"
      ],
      "execution_count": 4,
      "outputs": [
        {
          "output_type": "stream",
          "name": "stdout",
          "text": [
            "[{'a', 'b'}, {'a', 'c'}, {'b', 'd'}, {'d', 'c'}, {'e', 'd'}]\n"
          ]
        }
      ]
    },
    {
      "cell_type": "markdown",
      "metadata": {
        "id": "CapaQ7h8d2Qj"
      },
      "source": [
        "**Adding A Vertex**\n",
        "\n",
        "Adding a vertex is straight forward where we add another additional key to the graph dictionary."
      ]
    },
    {
      "cell_type": "code",
      "metadata": {
        "colab": {
          "base_uri": "https://localhost:8080/"
        },
        "id": "DhIhtz2Rbm7S",
        "outputId": "d327f1a6-26a6-40e1-b55e-156ce461bb99"
      },
      "source": [
        "class graph:\n",
        "   def __init__(self,gdict=None):\n",
        "      if gdict is None:\n",
        "         gdict = {}\n",
        "      self.gdict = gdict\n",
        "   def getVertices(self):\n",
        "      return list(self.gdict.keys())\n",
        "# Add the vertex as a key\n",
        "   def addVertex(self, vrtx):\n",
        "      if vrtx not in self.gdict:\n",
        "         self.gdict[vrtx] = []\n",
        "# Create the dictionary with graph elements\n",
        "graph_elements = { \n",
        "   \"a\" : [\"b\",\"c\"],\n",
        "   \"b\" : [\"a\", \"d\"],\n",
        "   \"c\" : [\"a\", \"d\"],\n",
        "   \"d\" : [\"e\"],\n",
        "   \"e\" : [\"d\"]\n",
        "}\n",
        "g = graph(graph_elements)\n",
        "g.addVertex(\"f\")\n",
        "print(g.getVertices())"
      ],
      "execution_count": 5,
      "outputs": [
        {
          "output_type": "stream",
          "name": "stdout",
          "text": [
            "['a', 'b', 'c', 'd', 'e', 'f']\n"
          ]
        }
      ]
    },
    {
      "cell_type": "markdown",
      "metadata": {
        "id": "XMmw1_3scgxF"
      },
      "source": [
        "**Adding an Edge**\n",
        "\n",
        "Adding an edge to an existing graph involves treating the new vertex as a tuple and validating if the edge is already present. If not then the edge is added."
      ]
    },
    {
      "cell_type": "code",
      "metadata": {
        "colab": {
          "base_uri": "https://localhost:8080/"
        },
        "id": "qCgRFaIMb_iV",
        "outputId": "aad9f8f2-ddc4-4e16-d795-a16b4dbf32fd"
      },
      "source": [
        "class graph:\n",
        "   def __init__(self,gdict=None):\n",
        "      if gdict is None:\n",
        "         gdict = {}\n",
        "      self.gdict = gdict\n",
        "   def edges(self):\n",
        "      return self.findedges()\n",
        "# Add the new edge\n",
        "   def AddEdge(self, edge):\n",
        "      edge = set(edge)\n",
        "      (vrtx1, vrtx2) = tuple(edge)\n",
        "      if vrtx1 in self.gdict:\n",
        "         self.gdict[vrtx1].append(vrtx2)\n",
        "      else:\n",
        "         self.gdict[vrtx1] = [vrtx2]\n",
        "# List the edge names\n",
        "   def findedges(self):\n",
        "      edgename = []\n",
        "      for vrtx in self.gdict:\n",
        "         for nxtvrtx in self.gdict[vrtx]:\n",
        "            if {nxtvrtx, vrtx} not in edgename:\n",
        "               edgename.append({vrtx, nxtvrtx})\n",
        "      return edgename\n",
        "# Create the dictionary with graph elements\n",
        "graph_elements = { \n",
        "   \"a\" : [\"b\",\"c\"],\n",
        "   \"b\" : [\"a\", \"d\"],\n",
        "   \"c\" : [\"a\", \"d\"],\n",
        "   \"d\" : [\"e\"],\n",
        "   \"e\" : [\"d\"]\n",
        "}\n",
        "g = graph(graph_elements)\n",
        "g.AddEdge({'a','e'})\n",
        "g.AddEdge({'a','c'})\n",
        "print(g.edges())"
      ],
      "execution_count": 9,
      "outputs": [
        {
          "output_type": "stream",
          "name": "stdout",
          "text": [
            "[{'a', 'b'}, {'a', 'c'}, {'a', 'e'}, {'b', 'd'}, {'d', 'c'}, {'e', 'd'}]\n"
          ]
        }
      ]
    },
    {
      "cell_type": "markdown",
      "metadata": {
        "id": "oQ-kyAX3R_7O"
      },
      "source": [
        ""
      ]
    }
  ]
}