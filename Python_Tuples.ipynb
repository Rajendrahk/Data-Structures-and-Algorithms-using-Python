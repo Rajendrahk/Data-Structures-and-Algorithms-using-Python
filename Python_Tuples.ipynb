{
  "nbformat": 4,
  "nbformat_minor": 0,
  "metadata": {
    "colab": {
      "name": "Python - Tuples.ipynb",
      "provenance": []
    },
    "kernelspec": {
      "name": "python3",
      "display_name": "Python 3"
    },
    "language_info": {
      "name": "python"
    }
  },
  "cells": [
    {
      "cell_type": "markdown",
      "metadata": {
        "id": "ExTO8Va9QIOc"
      },
      "source": [
        "A tuple is a sequence of immutable Python objects. Tuples are sequences, just like lists. The differences between tuples and lists are, the tuples cannot be changed unlike lists and tuples use parentheses, whereas lists use square brackets.\n",
        "\n",
        "Creating a tuple is as simple as putting different comma-separated values. Optionally you can put these comma-separated values between parentheses also."
      ]
    },
    {
      "cell_type": "markdown",
      "metadata": {
        "id": "jyR3RgsfQONm"
      },
      "source": [
        "For example"
      ]
    },
    {
      "cell_type": "code",
      "metadata": {
        "id": "aYmGy_WWPoe7"
      },
      "source": [
        "tup1 = ('physics', 'chemistry', 1997, 2000);\n",
        "tup2 = (1, 2, 3, 4, 5 );\n",
        "tup3 = \"a\", \"b\", \"c\", \"d\";"
      ],
      "execution_count": 1,
      "outputs": []
    },
    {
      "cell_type": "markdown",
      "metadata": {
        "id": "qiCqf9VBQQKU"
      },
      "source": [
        "The empty tuple is written as two parentheses containing nothing −"
      ]
    },
    {
      "cell_type": "code",
      "metadata": {
        "id": "pHn0i8IAQWAC"
      },
      "source": [
        "tup4 = ();"
      ],
      "execution_count": 2,
      "outputs": []
    },
    {
      "cell_type": "markdown",
      "metadata": {
        "id": "uCtuJn3cQeLl"
      },
      "source": [
        "To write a tuple containing a single value you have to include a comma, even though there is only one value −"
      ]
    },
    {
      "cell_type": "code",
      "metadata": {
        "id": "UNFMIVy-QgBm"
      },
      "source": [
        "tup5 = (50,);"
      ],
      "execution_count": 3,
      "outputs": []
    },
    {
      "cell_type": "markdown",
      "metadata": {
        "id": "Y6ebBch1Qn27"
      },
      "source": [
        "Like string indices, tuple indices start at 0, and they can be sliced, concatenated, and so on.\n",
        "\n",
        "**Accessing Values in Tuples**\n",
        "\n",
        "To access values in tuple, use the square brackets for slicing along with the index or indices to obtain value available at that index."
      ]
    },
    {
      "cell_type": "code",
      "metadata": {
        "colab": {
          "base_uri": "https://localhost:8080/"
        },
        "id": "7ECg2aT6Q3ts",
        "outputId": "aa84b18b-e2db-4d2a-bef0-194cf1789949"
      },
      "source": [
        "tup1 = ('physics', 'chemistry', 1997, 2000);\n",
        "tup2 = (1, 2, 3, 4, 5, 6, 7 );\n",
        "print(\"tup1[0]: \", tup1[0]);\n",
        "print(\"tup2[1:5]: \", tup2[1:5]);"
      ],
      "execution_count": 4,
      "outputs": [
        {
          "output_type": "stream",
          "name": "stdout",
          "text": [
            "tup1[0]:  physics\n",
            "tup2[1:5]:  (2, 3, 4, 5)\n"
          ]
        }
      ]
    },
    {
      "cell_type": "markdown",
      "metadata": {
        "id": "Y9UK7NUbRP3q"
      },
      "source": [
        "**Updating Tuples**\n",
        "\n",
        "Tuples are immutable which means you cannot update or change the values of tuple elements. You are able to take portions of existing tuples to create new tuples as the following example demonstrates "
      ]
    },
    {
      "cell_type": "code",
      "metadata": {
        "colab": {
          "base_uri": "https://localhost:8080/"
        },
        "id": "qbmuSARIRTep",
        "outputId": "352ada15-e345-46be-e60c-81c6e2bb046a"
      },
      "source": [
        "tup1 = (12, 34.56);\n",
        "tup2 = ('abc', 'xyz');\n",
        "\n",
        "# Following action is not valid for tuples\n",
        "# tup1[0] = 100;\n",
        "\n",
        "# So let's create a new tuple as follows\n",
        "tup3 = tup1 + tup2;\n",
        "print(tup3);"
      ],
      "execution_count": 6,
      "outputs": [
        {
          "output_type": "stream",
          "name": "stdout",
          "text": [
            "(12, 34.56, 'abc', 'xyz')\n"
          ]
        }
      ]
    },
    {
      "cell_type": "markdown",
      "metadata": {
        "id": "QEIpzZbCRrah"
      },
      "source": [
        "**Delete Tuple Elements**\n",
        "\n",
        "Removing individual tuple elements is not possible. There is, of course, nothing wrong with putting together another tuple with the undesired elements discarded.\n",
        "\n",
        "To explicitly remove an entire tuple, just use the del statement."
      ]
    },
    {
      "cell_type": "code",
      "metadata": {
        "colab": {
          "base_uri": "https://localhost:8080/",
          "height": 235
        },
        "id": "izsyfNqKRu-R",
        "outputId": "dc2a95e4-104e-4d65-f165-b71a600417f6"
      },
      "source": [
        "tup = ('physics', 'chemistry', 1997, 2000);\n",
        "print(tup);\n",
        "del(tup);\n",
        "print(\"After deleting tup : \");\n",
        "print(tup);"
      ],
      "execution_count": 7,
      "outputs": [
        {
          "output_type": "stream",
          "name": "stdout",
          "text": [
            "('physics', 'chemistry', 1997, 2000)\n",
            "After deleting tup : \n"
          ]
        },
        {
          "output_type": "error",
          "ename": "NameError",
          "evalue": "ignored",
          "traceback": [
            "\u001b[0;31m---------------------------------------------------------------------------\u001b[0m",
            "\u001b[0;31mNameError\u001b[0m                                 Traceback (most recent call last)",
            "\u001b[0;32m<ipython-input-7-182030c9feab>\u001b[0m in \u001b[0;36m<module>\u001b[0;34m()\u001b[0m\n\u001b[1;32m      3\u001b[0m \u001b[0;32mdel\u001b[0m\u001b[0;34m(\u001b[0m\u001b[0mtup\u001b[0m\u001b[0;34m)\u001b[0m\u001b[0;34m;\u001b[0m\u001b[0;34m\u001b[0m\u001b[0;34m\u001b[0m\u001b[0m\n\u001b[1;32m      4\u001b[0m \u001b[0mprint\u001b[0m\u001b[0;34m(\u001b[0m\u001b[0;34m\"After deleting tup : \"\u001b[0m\u001b[0;34m)\u001b[0m\u001b[0;34m;\u001b[0m\u001b[0;34m\u001b[0m\u001b[0;34m\u001b[0m\u001b[0m\n\u001b[0;32m----> 5\u001b[0;31m \u001b[0mprint\u001b[0m\u001b[0;34m(\u001b[0m\u001b[0mtup\u001b[0m\u001b[0;34m)\u001b[0m\u001b[0;34m;\u001b[0m\u001b[0;34m\u001b[0m\u001b[0;34m\u001b[0m\u001b[0m\n\u001b[0m",
            "\u001b[0;31mNameError\u001b[0m: name 'tup' is not defined"
          ]
        }
      ]
    },
    {
      "cell_type": "markdown",
      "metadata": {
        "id": "4A20pgnESKl8"
      },
      "source": [
        "**Basic Tuples Operations**\n",
        "\n",
        "Tuples respond to the + and * operators much like strings; they mean concatenation and repetition here too, except that the result is a new tuple, not a string.\n",
        "\n",
        "In fact, tuples respond to all of the general sequence operations we used on strings in the prior chapter."
      ]
    },
    {
      "cell_type": "markdown",
      "metadata": {
        "id": "8b_w3U3jSXf_"
      },
      "source": [
        "![Tuple Python.PNG](data:image/png;base64,iVBORw0KGgoAAAANSUhEUgAAAqoAAAD+CAYAAADyBSeiAAAAAXNSR0IArs4c6QAAAARnQU1BAACxjwv8YQUAAAAJcEhZcwAADsMAAA7DAcdvqGQAADSPSURBVHhe7Z1djuQ2lra/nTRyaY2ZiwRqI92+zMol2HM7mbUBuxcQdTkDdGNubWQB7iVkfOL/IUVK1E+IYsTzAAeukCiKkvie80qKSP+/KwAAAADACcGoAgAAAMApqTKq//d//0cQBEEQBEEQm2MJ1Ub13//+N0EQhA/yAkG0D3RI9BYYVYIgDgnyAkG0D3RI9BYYVYIgDgnyAkG0D3RI9BYYVYIgDgnyAkG0D3RI9BYYVYIgDgnyAkG0D3RI9BYYVYIgDgnyAkG0D3RI9BYYVYIgDgnyAkG0D3RI9BYYVYIgDgnyAkG0D3RI9BYYVYIgDgnyAkG0D3RI9BYYVYIgDgnyAkG0D3RI9BYYVYIgDgnyAkG0D3RI9BYYVYIgDgnyAkG0D3RI9BYY1c3x2/Wnv/zl+pdC/PW//pXZZi5Unz9df3Of//eX6191f3+9/vK/st2x8a//+uvo+OJoO76bxUnOf+9Bgdw/5jS5Lv/sFAXdqDE3HdeDR286/O1v43nt42+/ZbdpGhvrRaoPf/xnPNaDAqO6OaaNqopFSdlP8p+uv/75Z7Lsr9ef/8cuaxA1RrXl+G4WJzn/vQdGdf+Y12RDs5rRjSu6GNV2cVdGVcV//Hz9V2a7ZrGhXuT0EYzqr9c/nSd4sMCobo5gVP/+2596Irn41U2wJULyk/zv5zWqw/H8UxxnGrlt7yHu/fhuHRjV/WNKk//8JaxrUsinjOov/xy3Jw6Jbo2qNWo+fvu7WX7S+eTGmVtXipI+5HHL5Y8SGNXNERvVaN0/frJC+vv1v13R+M9f4qLhk/lP1998exHqcX+U8P95/eU/w/rckwkv7EKbIPzfkicy4usGmUiLYq6NiX+FMfrXFeE8ufHIcURjjs5R2O6nv4Xz89M/7Hp/bmyMXo+Mn3j7bWvbiPMfv8oRx5nbTo79H0nb0TjvPzCq+8ekJkX+8Te9chsbi/UQzeuw3Pfr9DuRt0wEPaVjGuVJYrfo3ajKdXL+y/kS18DMK/i0buTaDJHOS1lLw3z/6fqTm9tq3mbqxXytG9cSt73c1u1bR+oXEs1Eeoza5o/1zIFR3RwhaadG1U8wXUR+te3ip6J+MikRijtEH2r5//yciCqOUCxyk92GmOSxiJOYePoik8K0UR3CC8Mcb3wuzLZ14xgXTX8Oc8ZexeS2JsI5q2gTFVx33OXtQjIrt1HxaE+VMKr7x5Qml2iuZs7mNCNz3mgsFUZV6clvl4bXMbFn3JNRHefmcg0c5/M0YgM3p5XsvI3qdagX87Uub1TV9rnjL2pmuCl1D5vKbVSEdj0ERnVzTJsRFe4rAW7CBYPiJqeZkHoSehGZpyBqWWRU7WT9889/Xn/+j7BM9RcmZuhPbuuKShBNaOdfEwpxpTE98YdI7vjG4hTHGa0X4/Vm3Y1DnF9bAN3xO2G78yvPiT7WzLn0X8ew52xZm3BuwtjFdRJjNwkvN3Zx3R6sEGNU949ZTQ7h9DGdW2zhqtHDKqNq2rm+VA7U+x9C5sV4TGE7Yr+4K6Pq56KdK+7hhawVLi+7fDtqE3Kyr81+7or64vO70YrUXqhBQ0waVbMs7q9OH/74xdhCuyk/kDuGWLtnD4zq5pgyqmFS6rZCIFowbsK5xC6X2UIRL4v7iydwMG5u8prxxe3G2+X34baVMW9U00Ty2/XvYv3UuMLycGdpkkZcFMfjzUe6rQnz1QbVh4uqNqNzUxhT5dhHBV1ve/+BUd0/JjXpC3Ey77IxntsmpjUji91oXmdyitO8zAXpuNwTq7C/8XET6+Oejapvmw1bU9PaYV+ZR/MtMbNyn65dMY9PzPvpWpfXR7ptcb/+DaM5zny7vHbPHhjVzTE2I2mM28aikpMyTPKyUXX9xRM4fsLo2qjwE9ZO9KxoCvuQkU58d3xpyG38vjL9Zo8/WV4UVpps0hiOTbfz4o1Dftdots3o3MTX0fczRM3Yi4nmzgOjun+MNfmruDkUOUS2LYSfo7OaqZzXmZwS68NsV35dO/2deWJd3JVRTeaYb5uNMA9LWnBfD6jJ0cU2M/O+XOvy+kiP3+83PR9+vxhVjOooll34MBF/zpudZLLFy+K28QSOn6j6/kbt9jOquTZRpAVv2E6+6pbjCNtNP5X07ZLxquPIhWuvP8uvUAznNy2CxTajc1O65nVjX3we7yQwqvtHdi75+WqWO82lbaVOXMi+9bKsZirndSanhPwX5ygVbgz+qwaFdsS2uCuj6mqMnXNp21zI7fUy8Trc6yXpV27jopjHJ+b9dK3L6yM9puJ+fb3FqGJUR7HwwqfmLRVfZpJnlw1RnMBDO/+lcFG01PhUu3S7qX3IKAokG1KEP/unPFkByn368+OWzZvCIP7QVt8Z+77Ek5n0OGvaZM5NGLswvJVjX3Ye7ycwqvtHaS6FXCDmXpIL9LJ0/tfoQczroOewzI9lSjdesyJPiLcc4+/FEnvF3RhVMZ/VPNTrRjlYaMG+4k8/6778dvYBUU4rYj6r+lrM41PzXizLjXWsj8zxJ8dt2sX1ULXLj69UT88dGNXNsfTCiwlltymJT4cSU2biqxgLWBSLNITIs8Iv7EOGLH6lGL06scKXP9ZyJjqINxOZYxqdXy/0JLww43O9uk3u3KTXSYRPmoWxFxPcnQdGdf8ozyU5r8PNVElzYc7WaGZGuxO6SbeLbyjHMcqPxObo1qiWIpr75fkb5tLCOlloU9RexbyPYmKfSh9+Wc3YbL0tj2+pXzlHYFQ3x/ILn5q48no7yQq/gs1NYBXy1ZkKV4RGk1xut5NR1edAmLiQHEQCGY5J3cnKcURjtuMy282c37TIWVH64xr2638N6SLqv6JN8dyMtwvHq9ZjVGVgVPePybkkdKjms1teyg9h2xWaGfb/q/gfDOixZHUT/8DS62JkVs028biIPeKejGpa20zM5WUV8TxUkesrPGCxIXRQ1F5m3tfVuvG41LhLdT76yoIKOw7XJj8+jKrnEQtSPNmmozTx0nB9ujby36U2ueXpunR9brlclobcNhdpu9K26XlII7edXCZDbpdrl65f0ya3TC6fW1+7/F4Do3q7mJpLuXVuWW5dqU2uXa6Ni7RNabvS8nQdsU/0qMN0XsjItVdR066mjYqpdrll6fIltU5u69aln0ttp9bPLTtzYFQPi/SVBE8Mag07cR9BXiCI9oEOjw9q3bbAqB4YfrIOMX4V8XiBeB8ryAsE0T7Q4fFBrdsWGNWDQ01SF7n1jxacj8cJ8gJBtA902CaodesDo0oQxCFBXiCI9oEOid4Co0oQxCFBXiCI9oEOid4Co0oQxCFBXiCI9oEOid4Co0oQxCFBXiCI9oEOid4Co0oQxCFBXiCI9oEOid4Co0oQxCFBXiCI9oEOid4Co0oQxCFBXiCI9oEOid4Co0oQxCFBXiCI9oEOid4Co0oQxCFBXiCI9oEOid4Co0oQxCFBXiCI9oEOid4Co0oQxCFBXiCI9oEOid7iZkaVIAiCIAiCILbGEqqNKgCAhLwA0B50CL2BUQWAQyAvALQHHUJvYFQB4BDICwDtQYfQGxhVADgE8gJAe9Ah9AZGFQAOgbwA0B50CL2BUQWAQyAvALQHHUJvYFQB4BDICwDtQYfQGxhVADgE8gJAe9Ah9AZGFQAOgbwA0B50CL2BUQWAQyAvALQHHUJvYFQB4BDICwDtQYfQGxhVADgE8gJAe9Ah9EZDo/rj+v7l6fr87Yf9vDN/vF+fn16vF/vRcXkp7LPQvo7L9fXp6frk4/n6/oddtQQ9BtHPSzKa76/Xpy/vw5mTqH2v3B/AgdQnG5Mbgp7W6hIAUqp1qOrNmWqLqo+iJv749pyph3CPtDeq7x/2856Yvl+/X6+fn5922YA1eh9ymcYZzaEgjtbNYbcdBKT2peLjfRDQYoGbfpSJNv1crl9tvxJttNNzpo/rDcHCqalNNmqOO50qLejPT18xqwA7sNSovv2+tCbeAnvzmjGq43oO98ZdGtX8BDZGMGtetUm1xXDppNfbG4Mb+h2Lag495tQo676TMemnrmnRNvv7elk4doADqcoL9q2CmstBT+amjfkNsJ3ejarLCxjVx+FkRtU92bQxTMLoKaEzhZG5NOYzYPu1TyY9wlB6bD+qrXkKusKoWqJ9DeinQEJUtcj2WfOaPW9OtDxVhfOyJNlEuhHmFQC2sbdRNXVqrh5fjNF07dLabtv59S/v5rN+2JP4AvugxhnVi67dbh1fg7tHTmRUx6/QR6/8nEEdDFnxtaAuamNxTRlHtWyrUY2xr/GHY8vtr45yH1lTWjhugLOwNNk4tHZ5cgKwC3saVWNSjTlUderz9zd9Uxl+BxIMqHtL4tv42m/b+Nr/cX1zptXX7B9mmfAH3iCn2/HA5u44jVE1ky59hW5e+fkJLYTj2yRPW2Q/gXnjmN9uHU6860yjvLMsjEefh/wx8tQJzsrSZOMLkZ3XJe0CQD37GVVbV5O3l0a37uFRbEId5ubTGkpRz9K6Lo1q2o+s2X67CnMN/XESo5qfzAr3JFSTM2iJUc0+fUna5NjNqOoxTpviGtS2n5evWnSjVxnZp6fyfAKcj6XJxuF+WBie0gDAWnYzqmJ9VOui+hTqkmzjjKqq0/k3JqknGHsEXbPT7TCqd8m5jKq6g8qFm5zVRtUIwHOUUXUmNf1+7GqCOCOyx1NoC3AS1hpVRfyUBgDWsq9RtTV6FGOjKhkb1aRmi3qGUYVzGVU7CUtxaqO6u0lVjMWp0ceTijGcz/32D7AfuxhV5jbAJvY1qma9q9FpyLokwajCEk5iVAsG07Vxr/wqjGq+oIXvqJbYZFR3MKnm+HN/zN+MO+o3dx5s2ykzDtCSqrxgC036dZd8fgCApexmVEsPgFx90h/mjappn9Rs2zdGFRSnMarKaKV/4H5kHp0AMhPaiyX7tNEKQ/Sdstqo2v1vfpLq+hGC1mPOjCkr0MJxA5yFJXlBFTF/06Z1bzS+SWMAsJ9RHTB1U95Ypj+wqjCqwoQa7GdbDzGqcCKjqrBm1Ye5K/PFqcaoFoRhti2/OiwZVSeG0s84jJkshNhuzihr7LHI7ZUI4+Jsjy8xxlnRApyI+mRj/xSN10L48zcAsI1lRlXqUISobaZ2hnVxbcrX49ioKmLNq7+7qj4Hozrgx2PyAUb1cWhoVA254qOWyUiZW2YmcPq31OpejY/7HoT2Mm0A3ThLYRj2L+4Gp8hvb9FmNjXUJhmM/q9bACdiabKZ1AEArGKrDmVISssVpWXpcrfM/aWPXL1Ot0v7UOSWQb80N6q3wRi30SRXd1sjAzuDMoZzT0JrGPat7jS3ou5ER18z0MfF01Q4N+3zAgCcTYfmiWz8vXSzbPyGEx6TOzWqA/rJ4/jP2Wijl34tYAIlmPh/CbeOy8v4ByKLyRpS9aSYV6NwfjCqAO05ow7HX6FLvvYHD839GlXLPb4WuMdjgvsHowrQnrPqUNWwNAAUd29UAeAckBcA2oMOoTcwqgBwCOQFgPagQ+gNjCoAHAJ5AaA96BB6A6MKAIdAXgBoDzqE3sCoAsAhkBcA2oMOoTcwqgBwCOQFgPagQ+gNjCoAHAJ5AaA96BB6A6MKAIdAXgBoDzqE3sCoAsAhkBcA2oMOoTcwqgBwCOQFgPagQ+gNjCoAHAJ5AaA96BB642ZGlSAIgiAIgiC2xhJ4ogoAqyAvALQHHUJvYFQB4BDICwDtQYfQGxhVADgE8gJAe9Ah9AZGFQAOgbwA0B50CL2BUQWAQyAvALQHHUJvYFQB4BDICwDtQYfQGxhVADgE8gJAe9Ah9AZGFQAOgbwA0B50CL2BUQWAQyAvALQHHUJvYFQB4BDICwDtQYfQGxhVADgE8gJAe9Ah9AZGFQAOgbwA0B50CL1xCqP649vz9enlYj9JflzfvzxdX7/bj4sw2z49hVjXz/V6eZH9PF/f/7ArNJfr62jZDfjj/fr89DrsLYc91uw5nEafe3GOTJT2M4U6D6KPL+/DqALlawyPwtK8oHT3/E3OIsukFuZI5ulq7ab5Ze14BPq41uWpOEfZSDRYxffXqI/4/G/Jx3AW1hjV0fxaM7cORNWbVvM03rfRTDaPQTXtjepE0XHi+Hr5tEtqsUVkENPH5+f1U8Xlq+5r6eQ1Rm4Yn+3n4119ToqbSu5f3m4o3FAg1BhSvNkcjGBu/RT6HNvt0qjHFn/fz8f1TZ9/eU7MMSy/lnAvLMoLWlNGvzHOaBpNLiOdpwU9V6B1I/KLyVVfN5hVm7OG8a3Nd8/vH/64ZFRjTarLM5+/v2njHBVZna+3HCe0Znl9jjWjwsz3Ax7QrGHDDd9mCvtepEMY0dio2gQ7JML4QsZPPRYnbj1Znq9vv8eJ2hSXJYbSjCMeXygKgduaMG1Es0V7wCUSFYuNalzg1iLH5/sR18Bzc0MPZ6Y+LxjdjW7Moqd9g1laOmf19uGm02A0oLRTjdWc0nvo53L9apetwd9srurDnK94PEvJ52Kj7VizKo/G+Q96Yml9liY18CPzMOIkCH0eTst93zFtjWrOzDiTqoyPvaNfe9HTpO2SbtbwTRD3Y81rkqhzCb2EM3Z1As8XEINbdzFJY7FRVceSnv+lTI0vf+4Q8WNSnReEofRYk6rmmXkKusKoWtJ5qm9gF2sn6WdLgbJ58P37yj709mueMAuyuTgQHau+FjxV7ZVlOhw/8HH8+H6JH04MmCetIaIni07XVsvZNhrrAXwM29g1Gqu1bB9J3/IGNB5b+jTY7PN1OKZo3+kN7OJ9h/oYmDm+6vP0ODQ1qs6w5Yyjmvzu1dM+xia+O1yLHnOuKMwkesnUcY+Y6DeMxb5qX3psqbB0JKKZJZjPKBEUjLgzBfB41OaFKeOolm01qjFm/m59q6DHXKvpCJGXVuY7kweGPmRU3whbXHH8jItoXGAdQfPQH3vU5zF2HtvaqLQ0+rqdqzf2YZFqY2qGuOmxRtA9+Ij0LtarPuP1wnjaNmp+ujZmPxNjs3NaGnPXxs/zVfv+MEbVPdiy611+UzE6BzXn6cFoaFQrjKO46JuxF99NoMUIU5cvavXJe0kCCGY0vz8jGiOGyXOZwRW4IKoVgnDC82NR/eS+o2owx778qTb0T11eMPN6yjiWNbEc01fdDWYOpyGpo0V4gzhsu9KoGs2KAjuhvxLhOIz2dT+576hq7FOi5K0S9MGiG8Zao6rncZiDDtOHnYe5NkmNN/Uhv0+1TXZ96hMmPhfHls07waPoT2v2nWhFntOwH/O1Ia+nivP0aDQ0qvMFabeLY/tZauRy+CJgJ29gOnmbYlKKoVDZdimlZKGX++OpMP0TxNskopnDntvRdSxdO1GY4bGoygsVmjemaoc5pOfiTA6q5PPT6ib7BLKEvNkc9r8h36ntq/RXwJzTsdEwy8c3ri7/QH8sM6p1DxWKmhSmK5v7o3laX8fUerPPob0NP9eTuT89tmFu6+VGi2qbsO/8eJbs2/Vh6mn5+Ny5DoZ+6jw9HvdvVG0fbnIU97UEKT5PmIQl3P716wKbANyy0riyyUJMZLNdvcDnmT+OCHGN4n2H6xuRPXfwCJzKqOp5aIzlds0YzLjq30bEN5sDuxajgv4KTBfzsV6XmBg4F7VFX8+JJUY19yRUzh9RtzzRnA+mrqhJV89t6Ju89E1EoiMzt8M2cbjxBKMaSOrqin3LY5o6vkhPs+fp8TiFUS2y9eK4iWUnWnHyLyWbvCtEZlmSAHIFQS9Tx5WNBa/tsyTinCUncMWUUd1oMqBLTmNU9Rwc5uaOJlVhxuWe0Mxh9DHWr43aG8UiFflVUtJlNtfZHFSdI+BMVBf9wrX32PXq+5lFTcp5lZtjkd7na4+ph+HVuW6X5ozksxyb2yYNp5c478TjWbNv14fRYfn4Ij3NnqfHo6FRrTBEWy6O3db1X9zHFLYPdeckyYuyZNjG6O1zd58ZSsXPHZOJ+MdUtcfqhBe/rAzHsaifYd8RhWu35NjhvtjrBjavv0p0EdhoUkWBlhg9LXvK6PSqQzydccvmCXk0QutvwmSMyOev/LkOxbdujHAm6ot+YW5p7DqXy60msjc0UZtpAzatofy8M3NUzN209hTG5mqR/I5qPP/D8bvfgSzetxizIn98IefpvivO06PR0Ki6iTKR2FdfHHPhlxq3HHpiyaeUdkyjJK2XLykMpkjNUtWvFNSCYxXHYkiSTy2j62TPf6YffT6XjhPugtq84OZIibx5qsDN981PUp1OxI+VdHExGljd90hHlYh9G+L8V4s5ryLX2X5Huc72vzwvwxlYVPTtnEz1aOqiqUtmblhNZOaP10SNAXMa9TVpQG9nbgx9PXZ9uPHJbTI6KtVx//3w7JyO6+q6fZs+0vXyfJp+xXmpOU8PRlOjak7+hAkrXRy7XfpEw+HucvIxTADZzt9RlTETKUSY3AHX1yKDV0Uy0bPEgjIY4aVPg0c44biwx7C4n6Gd+jGJ78eOJT5PIRmk5w/un+q8oBO1KAgJJaM6p+dUx1GI7XS7pDCPsX/w3Pdh8tFy3Qhy+W4m13msKfCR6K8216X95HJdtpBCNywt+uO5PsSoThhijSWaqDZgSS2J+snpzrYX9c+PI9W13y6d2/NGdd2+c/U7Ob70XFafp8ehrVHNXsQxYTIFfnx7nX16qbYrhWHY/0uducxv7zDHkU3qO2CKzPyfmhmNbZjwtRPbbTvqQ7FjP06U8HjU54Vc0Rgzml8Vek7nZxqGYf+i8EyR396yQDeStJ+aXOcoj6c+1ynyfRhUId77+71wHMuNqkHOCRc55tosWSZDklsn/61I1yvkMrncUVoml7vPcrn8tyK3PkW2Ka1PyS17BBob1QF9pyAeyVehjGF4Mroate+hIG3m5gbMGOGlRe/yUvEkpoJ9+rmtmYfzsygvaE3N35xF7KhnZcS2sp9uTpTrdL7maWrPrDWqAK1ob1QH9BPDJUnUJt2thkftd9GruSzq6Y8pSDc1YLpALDH0w7jEa4/17NOPu8aY1MdlaV7QT+5m3rZI9tHzXgZzJ/2dKtdxs3kPYFShN05hVO+BoxJ37wWCAve4rMkLzJfzwTXpG4wq9AZGFQAOgbwA0B50CL2BUQWAQyAvALQHHUJvYFQB4BDICwDtQYfQGxhVADgE8gJAe9Ah9AZGFQAOgbwA0B50CL2BUQWAQyAvALQHHUJvYFQB4BDICwDtQYfQGxhVADgE8gJAe9Ah9AZGFQAOgbwA0B50CL2BUQWAQyAvALQHHUJvYFQB4BDICwDtQYfQGzczqgRBEARBEASxNZbAE1UAWAV5AaA96BB6A6MKAIdAXgBoDzqE3sCoAsAhkBcA2oMOoTcwqgBwCOQFgPagQ+gNjCoAHAJ5AaA96BB6A6MKAIdAXgBoDzqE3sCoAsAhkBcA2oMOoTcwqgBwCOQFgPagQ+gNjCoAHAJ5AaA96BB6A6MKAIdAXgBoDzqE3sCoAsAhkBcA2oMOoTcwqgBwCOQFgPagQ+iNUxjVH9+er08vl+Ffl+vr09P1+dsPs+KP9+vz8Pn1u/mYcnl5uj59eb+a1j+u71/G25p+B76/Xp+enq/vf5iPI9R639ccapwTfRWIxwvwWCzNC0ovWs+Jdid1NMoZJqf4z7qvkCd07nl6HVrVYHKMzymjzwnJuPW+knwV9p3kvlmS9pP5LR3nnuckbb/lnNhr69dnjpH8uZlqHdp5kY/SXDsGNW+KGh+YWw990d6o6sKSJOv3D/3JFZ2vl0/zOcEUrLfrx2dY/+n+LYyqXmYT5Nvv+b4UujC6fWcx43t6eR+S8ev17X1BQneiT8YL8CgsygvWlGitJNrN6d5TyBk+L1gdOp17k1WlyWDCTH/p54RCzom2ffpq953kvlmS9oV9GfLj3OecpO23nBN7bf368TmZz9EwxzKjaq6Fuj4yzHUa5q5teiijm1GDm0Oz66E7GhtVk9TUHbOZRPazS0QrjKonNar6cymRW3SbefF9Xr4OIjXj/Pz8uH5M9amxBlcFRhUelPq8YPSiCk1Ou2uMqkeYMt23/lxvyvS+NxpVg93WG9Uk982StK/Z1+Q415+TuP2Wc2LPr1+fOSeVORrKrDGqYy7Xr3bOHM6cxufWQ3e0NapJAVKoROUn2MyEiwuWTWruNZHdNiRMVfzmkm8mMY6wRfSb6t8VmWlccYvHC/BYLCuQUquxdid1NMoZwfRqdN/ClKn27sltBerpod92oSnTTx5Hr/5DDolyXwVR+0lTkY5z33MSt99yTuy1FevH56QmR8MU+xjVcJ0l5vq5iL8e4K71RT+Bd20GXdv1ATM/fRsxP9xc9aH3L+bz3HpPso9kHPmxtv26wyPT1Ki6yZAmRJ/gRkUnRosiNaougdlt04SZTZ4CM6a3IIwUJQQ7ZrX/2YQpxB6PF+CxqM0LWicZo+M+T+polDNMQYoNnTBllrm8kGedKZP5ShpVxdJx+PbJvmLScd7mnJj2W86JvbbJcaT9zOZomGQfo2rmkJwz5tqZG0q1zL15dAZRX7fhs9OuamO2kU/IrYG08yfbRmjctEnmc+X6qX34sfo2H9c3Na+Zd01oaFRnEprCTaip8AXL9DdnVGfR4pRPc/K4Pqf7tmOyX23QYigVWIA7py4vjAtgiikq0+GLku3Pfy6YsnXYHCb2O45lRnU19rgmw+fCs54Td21L5shSmaMhzx5G1VwncQ0Sc+hwNU+ZO2P+TH+hTfwVAtMmmF1D8jUDsS9D2aga4vVmTGbOLRrHxPmA29LQqM4XpHTyp+FEsKtR1dvtMxmzSRijCg9KVV4YFZkxUkdpTvj8/W2ySN3ElPmnLknoJ0ohl8T54BZGNZiAOOzToCON6qpzYq/tXP7dMUc/IsuMqroeuYhNnDR2EboPM8fTa+3Q13yYL+nckYQ2A6McscSozuxDmup0rEJjcCzdGNUcsmC5CbiPUS3vsxrdj/lOi9t/PF6Ax+IWRnXEaPvjTNmIpLAdZVTHpOM86zmx13bODOyVox+UZUbVXAt1LVV86L90Y869vL7GqKprlwtjYOeMqrqhMpoohJtTcxqfXB98Qjo/ZV7BqJ6LUxjVIjMJKS5YYQJq7LbFhFlCb7d9Mk4Lly9lw+OBUZXFz26LUY0MQb1R3Z6jH5U1RlXirtHoh1LiKWsusuYvmi/WqNq5U4pZjU+uL89PfVx2eXaskxqDW9LQqM4kNMVM0bqJUdWTMfMKYyVq3y7keBeNCeAO2OsGNtZ9wlwRO40ps9tiVCND4EzQpBnQfeyXox+NrUZVzR/1fU6lQf/DokJbd33T76gGwlxU8yWvbVvbk7/oU9T4zPr8PkwbpwGM6rloaFTdJC4UHMUWo2pRk25J8s1O0J2YLLAAd05tXtA6GYxOiUkdzRUxy5KcUGabKVMszU9FJovojFG19HJObpmjH4HtRnVAr4vrrdaluvGyn50W1a/+1fXU1234rLTrDK7RsryW1gQL/ZvtxI3JRqPq1st9mLGHfWTn2KTG4JY0Napmwkxc+NGEi4kLVmpU7R2SuwtLcBMxXmv78P8Dgn2ZLLAAd86yAll+0jipo8oiFf9NxYDuWxSwabaZMnMcaQ6y2NxY/RWhySI6Y1RPdE68KdGfctw2Rz8CuxjVAT0vIq2FZS6cSVWYa/vV/h8dbRt77eNrac2qDzMfZBu/H62fZD4PzK0f7SMZRzovNTPnA25HW6Pqkk7yFDRlKiGpdXJ92ra87bDvl2Qi6oR921dK6XgBHoX6vJArLDFzOkrXzX0ODPsumawCqu1U+7l9l7b98e11cVGcG4dcXzuOM52TI3L0vbO06M9dx9y1k+HwNyHJetlGMtcmXZe2mVuvkG1K61Nyy+C2NDaqAzrxiNcFR6H2mzwlUHdh3KkD3IZFeUE9vRCvCA9j2G/pLcyxqJv4qSeLB3Kac0KO3oOlRX8vpFEFWEJ7ozqgJ3D1q6V9UPuMXnXpwpg8YQWA3ViaF7QpmXnbsjeXl5P8RQ57I30GQ3aac0KO3gWMKvTGKYzqmeBOHeA2rMkL6BFSmBPbaF2fuX6wFIwqABwCeQGgPegQegOjCgCHQF4AaA86hN7AqALAIZAXANqDDqE3MKoAcAjkBYD2oEPoDYwqABwCeQGgPegQegOjCgCHQF4AaA86hN7AqALAIZAXANqDDqE3MKoAcAjkBYD2oEPoDYwqABwCeQGgPegQegOjCgCHQF4AaA86hN64mVElCIIgCIIgiK2xBJ6oAsAqyAsA7UGH0BsYVQA4BPICQHvQIfQGRhUADoG8ANAedAi9gVEFgEMgLwC0Bx1Cb2BUAeAQyAsA7UGH0BsYVQA4BPICQHvQIfQGRhUADoG8ANAedAi9gVEFgEMgLwC0Bx1Cb2BUAeAQyAsA7UGH0BsYVQA4BPICQHvQIfQGRhUADoG8ANAedAi9gVEFgEMgLwC0Bx1CbzQ3qpeXp+vTk4vn6/sfdkWBH9+er09f3q8/7OdN/PF+fX56vV7sR4ka1/O3dXvRY/THNMRLbg8VfH+N+onH8+P6/uXp+vrdfgQ4OfN5wcxpOedzwZwHWE9tfXZ1bLIO2hp1c03qWt1K+5fr6+y+a9rAWpoaVSOEwSh+fl4/h/h4V5/nzapCtd9GMHppX16g7x92ST1mW3MMqt/Pz8v169DXYrMqhKn7+f1Nf46Shm7zNWu0Ac5GbV4wugnaUToMy0wAwDqW1efn63PxgYgxZ6pWfr3cWJO2Ht58P1nMcdbsm9x0GxoaVXPxlfEKF9eYxzUGcSlahF/erx/RxIqf6Cwfhx1/dEwD+q7z+fr2e/0k1k+ak/GZMb8NewnoJ78HnC+ArSxNNj5HWKMKANtZZlRfr19VLco8aFHrn19ejzGQnRhVuA0NjaohLkChMJVwBtOYNWcML5HBnP9qQM5QOpOqnvDGT3KWMtpGi2yZUVWofmRfxry+xeZam2CeqsL52WJUY4xWX7+Z4qU0r574xLnBYm8So7c0tuj5fLH2qzkAHbLUqF4uX4f/DjUmqmtKg4OuvucMpNFtqR7rOjZoTv/XtzNfwYuWSV06o/pu3iy6NuMnvdP71vlgWPbu9uPW268w5LdzRjXpO8obZp0bT/YY07FANc2NqsQLIzV6AleMjFlz5tIIRRs794p86injhHE05tBMusk+FlBzXLOIO8rYCDsRbegb4AD2NqruLYW7oYtzgyV9m2F15G5SPz8/rm+qr+RNBcC9stio2gc3UY1ROlJas/U2rLNmbjBpTpfGrIWHKc68uQdBrmbrZU6XaR23uo00rw20NKvz+/aGVLQx/civ69mc4I2o7Tez7/S43WdvUP1+yDNbOIdRFXczbvKWyBpVOxkcepJMTIh541gqkGuIxbMcJxJ1TEkR1phzsM9YAW7H7kY10VSNUTW5IWkjbgIB7p3lRtUaPm/czDptKhOjKrcJ2gxvKPUnZx79eqvn6G1h0LjG3WAm/kDW+pp9y3zg2sjtJGq9aRPyUOg3GZ9tExtVc4x+G/LMas5hVC3jO5kxelIlRrU0ecemzmDW50yfo1Qgl2In80g8y1Hbmh+bibtDiz6eiXMGcAb2Nqqp7uPcYImMaq7gKEJ/APfOGqNq/u3MpdKR/TpNZL6CeUtrnaxRufrs1oftkr70fmKDqdH6VuP6qNq3aZ+YUnsM6mHQ1I/G1DEWxyfaKMbHoyDPrOVURlWTPAFJKRlVSU4Ikrn1btJtm1B2Iu9gUgP5cc0fD0B7bmFUJbVG1b29SWOb3gH6YI1RlUZRa8rpLGdUE135sMYtV6/Gxs725ZbJ/Uu88bRGNbdfFa6fnFHVmCevYRv5vfbYhBqS8SVtxsejyOctmAejmqVUIGtxgt3TpCry48qLAuBcnMWoqu2UVnIBcO+sMqpCc6re+B8i54yqrUWlyNXfcQ2L+yoZ1TDG+IlqKcpG1WDaOdPq3l7GJtSQjC9pk6/JpXwGc7QzqnaCp4/aY3GM2cOomn241xg5tkwoO4E3mdQggogoKTjCOVi3L4BjOMSoJrnDLHMFLugqV0Dyr/0A7ot1RtXV1efYMCY1KV97rV4Hc6vItRkbu0Sr2drn+jJ+oGbfc0bVExnj2IQa0lwSt9FjST1G1CcsoZ1RHfAX0352k3HKdO1hVOcnzHqjao5pi0m1aEFJcVhhpE+MsiICOB+3Nqojzdh8Er2hETnGYfJFqiuA+2StUXX6imqr1VOoP/ZppHjIkje864xq9Epe6N2Zxbl954yqb2M/K+KcsNaoyrGk7WEJTY2qwl9QG+qpxtSF3MWolgqdp1QgzfLikxcvpnz47XQ7+R2YAi4xuLCTPDo/GeEBnJGbG9UBU3ScZgZdWK1FN6WpTm0+oYDAI7DaqAo9eq1YLcUmLv2+pzGBbptcfdbLIhOXGDun40v4U1bOtMa6nd53qV7GecNuN7Qx28Um1JAaz7iNO8Y36W9y9RuqaG5UFe7iLbmIsl1um7m+jOGd/ptm2e2HiR5P2DFu37lw/Pj2Wv0KoNSHQgnCf18I4MQsN6qG0tyemvNOK65Nrq1sk1sPcI+sqc+SnFZKy2RI1i5zn2XkmGuzZrvcNmk7929pxl2btC3Ucwqj2gZzRzRnOlMuLxVPQmdR+zZ3epvQd5nju0OAM9JHXgC4b9Dh7ck9NYb1PLBRHdBGT3xHdpbL9fXLDv8bNLXf6DXHGozRnvuqBMBZoEACtAcd3h6M6r48tlG19Gz0MKnQCxRIgPagw2NQtZn6vA8YVQA4BPICQHvQIfQGRhUADoG8ANAedAi9gVEFgEMgLwC0Bx1Cb2BUAeAQyAsA7UGH0BsYVQA4BPICQHvQIfQGRhUADoG8ANAedAi9gVEFgEMgLwC0Bx1Cb2BUAeAQyAsA7UGH0BsYVQA4BPICQHvQIfQGRhUADoG8ANAedAi9gVEFgEMgLwC0Bx1Cb9zMqBIEQRAEQRDE1lgCT1QBYBXkBYD2oEPoDYwqABwCeQGgPegQegOjCgCHQF4AaA86hN7AqALAIZAXANqDDqE3MKoAcAjkBYD2oEPoDYwqABwCeQGgPegQegOjCgCHQF4AaA86hN7AqALAIZAXANqDDqE3MKoAcAjkBYD2oEPoDYwqABwCeQGgPegQegOjCgCHQF4AaA86hN7AqALAIZAXANqDDqE3GhvVH9f3L0/XpycVr9eLXdqE7687juFyfX16vr7/YT9K1H6+vA9HvgI9Rne+htipn+dvcS8/vj1fn16OvBrqfD1dX7/bj5VcXgrnGE7JqgJZrReZS0xUzac/3q/PYptj5z3A8VTrUGsjzrGqNizN01uIcvyuNRp6oqlR1YZITbzPz+unjdbsMYbLizF/o75cURwK78fS/VhzqZKEOVcf1zdVmL+8LTOrdgy+n9/f9OfYrJqi//Vy7PVYdO71+cCo9sRio1qtF2tSbTs9ry9fvV7KmBskp9XPz8v1q9ofZhXumKVG9e13qz1ROw6hkOMX1Qm4C05jVO8Gd9eXHJM51qEIqhjM5VKjqsyvKqCRSG3iWGIodT9J4ddjSw2vOo6lJvhIbBLzSRROz5Jks0gvoqBKfZi5Xp7D2fyj59XX+8pJAIKtRvWwBxjkeLA0M6q6iLhCNER4omeecoR18aN+XVxe3sNrvszTD1fkojs/PenHr7k9er3bl3lC8/ztEr9OrHgFmTOUcjyueC41qgrz1EduZ87V0sSR9pMfU9r3/Ot5fZzDObrY4zURXz99noc27+7663Ma953vJ9xZu/PpIndNV80BuCnLbmCX6yXWhptH89vK7cy+xzeaAPfCKqNqc6cPUXfTfBzXCFNLX78ZkxutT/ucy/FRjbZY8+zbRjV6fR2Hc9HMqCo+3tVkNE8vdLFwk84aPRXG0A5t7DZuAj+/f/g2etsEV+DMhLTmN30iKXEi0Ovtq8RhG2XU9D7cK/Jhv2WCucvtRy3bYlRH6DFvvOMUd8npmPVYkxuB4vkb8MnFHp8/XnH9fHIS11i9cpWm2Pfj22S+5iCOvTSmxXMAbsrSZKOu03q9WA0vut5mjrjcAnCPrDKq/rOoiUOYXG0Mpl42+iqZq6UhV2tt2fzttxsiXytEjtefxU2krSVqX6aPtE6sreNwNpoaVTPJw2s2U5TC98wM5ntjbmKZbWqeeITtjADMNqHfhEgE+SIXG58MQlgl1hfeFDtGe76WY42bikIf+lwvGKtLWrF5jK/fKPlockY1uV7pua0413LfVXMAbsrSZKNYrRc9P/I3YGNCQavLLQD9sodRNdgbO2sUHb6um0/lWpreRM7leP15ukbHY1xZx+F0nMCozky8ATmxjHmqM2em/2FbO3HTfiMyIlAGJzfBS/uOjyfP6sKboPuxIp48rhnUtv7Jtl3mic7JPKVro8c6XFdNts+MUU37ySYt8bnAojkAN+Uwo2qLVS6XTKHamh9hjX/AAXAv7GZURQ6OdBZtl6+lCq23IUwtczGR46PaUXr7EXxEad971WA4jtMZ1dyElhOrZIby2KeGNZMyEkEYi2RugsfHk2cPkRhhZxLEaoLoIyrNoKN0bfR4nWmIzrPjdkbV9U1ias8hRjUxqcv1IQsdwP2xr1EdtJINt12+lsbbmrbuJrGY4/Xn2Kj6sXiCftVXAdbUcTgfpzOq3tAIpNFZYlSNoTMxEkpKJILzGlVzTFbYK/sYM2VUp49Hkr82yXXN9nk7o7poDsBNublR3WxSFeU8BHAP7GtUQy3KhdNTnHtjjfm2czlef3a1o1CzxP4wqvfDiYxqaQKFCakmc7VR1ZPaiMq82p55nReJICeuigmeCivDFpHobUViWE5IEBFpArJUn2uLuZ7p8QcTGpLRQUZVt1kwB+Cm3NSorjCppu/0F8BxvgG4N3YzqoW64XO8/pCrpUlNsMj6psnm/LhGT9eylXUcTsepjKosNg4zeUObOvMUJrERwo/5P46fEcHyCR4brhxrRSJN4KYCKsybwZ6rzDnVY/XncB4zxvg8m+MVfUfn2XELo7piDsBNuZ1RNfPHXetqfdh8I3Wu9zeanwD3w25GdcDVpfAAwN7o+R9Y5WqpqzkiF9u6FNWmbM4X2rTbhL7TWpbbd21OgTNxLqOqsf93GBd20rnikzUxCabYJKYuY4IjIhGsn+C6TWkfA6U+prezhbgQ4U+BmHbx37HLIJKCjmyBD+bRLJ/v21zPr9c3/fTS9p1cv1Gy0YR9KaqMqktKah+Z81YzB9x+MK7HcCujauadnQujGOaabZfFzQkX6XwFuDNWG9UBk1eNTlzeTPUX/xWAfC1VOT+q80qnVosj46nWq5ydqx2pfqNahlG9F5oaVUeuKLjJFiZdTG6ZZGq7qW3lujXbGzGFP7mVI9/HYNasyEq47XLhGfYv73inKPahUMeRmsWBUTuBSVgmkUz2PVCzrLaNi5T55UMie5m+6YH9WGNUFaXrmOLa5WKOpe0BemVrfS7ppLRckVumkNu4NmnbufUK2SZdP9Ue+uAURvXeUHds4zvIGQZjGJ6Mrufyssf3MM2dqHp6ukTM0qh2gbobzzyNhdvw6HkB4AygQ+gNjOpNUK81lhnGfQzm5fq6w6tsbThnnu7m6M2oqvHOfk0CdoO8ANAedAi9gVG9Ib2/Wlg7fl6pQA7yAkB70CH0BkYVAA6BvADQHnQIvYFRBYBDIC8AtAcdQm9gVAHgEMgLAO1Bh9AbGFUAOATyAkB70CH0BkYVAA6BvADQHnQIvYFRBYBDIC8AtAcdQm9gVAHgEMgLAO1Bh9AbGFUAOATyAkB70CH0BkYVAA6BvADQHnQIvYFRBYBDIC8AtAcdQm9gVAHgEMgLAO1Bh9AbNzOqBEEQBEEQBLE1llBlVAEAAAAAjgajCgAAAACnBKMKAAAAAKcEowoAAAAApwSjCgAAAACnBKMKAAAAAKcEowoAAAAApwSjCgAAAACnBKMKAAAAAKcEowoAAAAApwSjCgAAAACnBKMKAAAAACfkev3/MiNWvV4Mx9QAAAAASUVORK5CYII=)"
      ]
    }
  ]
}