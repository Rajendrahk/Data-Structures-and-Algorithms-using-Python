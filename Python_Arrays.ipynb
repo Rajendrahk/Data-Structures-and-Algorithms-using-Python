{
  "nbformat": 4,
  "nbformat_minor": 0,
  "metadata": {
    "colab": {
      "name": "Python Arrays.ipynb",
      "provenance": []
    },
    "kernelspec": {
      "name": "python3",
      "display_name": "Python 3"
    },
    "language_info": {
      "name": "python"
    }
  },
  "cells": [
    {
      "cell_type": "markdown",
      "metadata": {
        "id": "c9Kroom5GJnf"
      },
      "source": [
        "Array is a container which can hold a fix number of items and these items should be of the same type. Most of the data structures make use of arrays to implement their algorithms. Following are the important terms to understand the concept of Array are as follows −\n",
        "\n",
        "**Element −** Each item stored in an array is called an element.\n",
        "\n",
        "**Index −**Each location of an element in an array has a numerical index, which is used to identify the element."
      ]
    },
    {
      "cell_type": "markdown",
      "metadata": {
        "id": "S1_IN4k-UOpS"
      },
      "source": [
        "Array is created in Python by importing array module to the python program. Then, the array is declared as shown below −\n",
        "\n",
        "from array import *\n",
        "\n",
        "arrayName = array(typecode, [Initializers])"
      ]
    },
    {
      "cell_type": "markdown",
      "metadata": {
        "id": "Pv-0KyNeTf6Q"
      },
      "source": [
        "Typecode are the codes that are used to define the type of value the array will hold. Some common typecodes used are as follows −\n",
        "\n",
        "**Typecode**\t**Value**\n",
        "\n",
        "  b\t          Represents signed integer of size 1 byte\n",
        "\n",
        "  B\t          Represents unsigned integer of size 1 byte\n",
        "\n",
        "  c\t          Represents character of size 1 byte\n",
        "\n",
        "  i\t          Represents signed integer of size 2 bytes\n",
        "\n",
        "  I\t          Represents unsigned integer of size 2 bytes\n",
        "\n",
        "  f\t          Represents floating point of size 4 bytes\n",
        "  \n",
        "  d\t          Represents floating point of size 8 bytes"
      ]
    },
    {
      "cell_type": "markdown",
      "metadata": {
        "id": "G0iQs_fXFabz"
      },
      "source": [
        "Before looking at various array operations lets create and print an array using python.\n",
        "\n",
        "**Example**\n",
        "The below code creates an array named array1."
      ]
    },
    {
      "cell_type": "code",
      "metadata": {
        "colab": {
          "base_uri": "https://localhost:8080/"
        },
        "id": "0ClMTe1ME61c",
        "outputId": "d6cf54ff-ae97-464b-8c81-cfe1c98127c6"
      },
      "source": [
        "from array import *\n",
        "\n",
        "array1 = array('i', [10,20,30,40,50])\n",
        "\n",
        "for x in array1:\n",
        "   print(x)"
      ],
      "execution_count": 1,
      "outputs": [
        {
          "output_type": "stream",
          "name": "stdout",
          "text": [
            "10\n",
            "20\n",
            "30\n",
            "40\n",
            "50\n"
          ]
        }
      ]
    },
    {
      "cell_type": "markdown",
      "metadata": {
        "id": "j4wNhm50Fl7b"
      },
      "source": [
        "**Accessing Array Element**\n",
        "\n",
        "We can access each element of an array using the index of the element. The below code shows how to access an array element.\n",
        "\n",
        "**Example**"
      ]
    },
    {
      "cell_type": "code",
      "metadata": {
        "colab": {
          "base_uri": "https://localhost:8080/"
        },
        "id": "Jv4znTRHFtky",
        "outputId": "2459ca57-d968-4207-81ef-6e7e58aca22f"
      },
      "source": [
        "from array import *\n",
        "\n",
        "array1 = array('i', [10,20,30,40,50])\n",
        "\n",
        "print (array1[0])\n",
        "\n",
        "print (array1[2])"
      ],
      "execution_count": 2,
      "outputs": [
        {
          "output_type": "stream",
          "name": "stdout",
          "text": [
            "10\n",
            "30\n"
          ]
        }
      ]
    },
    {
      "cell_type": "markdown",
      "metadata": {
        "id": "nIy6sW_PUq_-"
      },
      "source": [
        "**Insertion Operation**\n",
        "\n",
        "Insert operation is to insert one or more data elements into an array. Based on the requirement, a new element can be added at the beginning, end, or any given index of array.\n",
        "\n",
        "**Example**\n",
        "Here, we add a data element at the middle of the array using the python in-built insert() method."
      ]
    },
    {
      "cell_type": "code",
      "metadata": {
        "colab": {
          "base_uri": "https://localhost:8080/"
        },
        "id": "wI3L0hmLU4fK",
        "outputId": "0f1927a1-fc0f-4131-fd6b-a6fe9f42245b"
      },
      "source": [
        "from array import *\n",
        "\n",
        "array1 = array('i', [10,20,30,40,50])\n",
        "\n",
        "array1.insert(1,60)\n",
        "\n",
        "for x in array1:\n",
        "   print(x)"
      ],
      "execution_count": 4,
      "outputs": [
        {
          "output_type": "stream",
          "name": "stdout",
          "text": [
            "10\n",
            "60\n",
            "20\n",
            "30\n",
            "40\n",
            "50\n"
          ]
        }
      ]
    },
    {
      "cell_type": "markdown",
      "metadata": {
        "id": "CnICu_VuVMFE"
      },
      "source": [
        "**Deletion Operation**\n",
        "\n",
        "Deletion refers to removing an existing element from the array and re-organizing all elements of an array.\n",
        "\n",
        "**Example**\n",
        "\n",
        "Here, we remove a data element at the middle of the array using the python in-built remove() method."
      ]
    },
    {
      "cell_type": "code",
      "metadata": {
        "colab": {
          "base_uri": "https://localhost:8080/"
        },
        "id": "DdytN55NVcKf",
        "outputId": "2fede325-46ce-4cbd-fbd1-97b745dc9645"
      },
      "source": [
        "from array import *\n",
        "\n",
        "array1 = array('i', [10,20,30,40,50])\n",
        "\n",
        "array1.remove(40)\n",
        "\n",
        "for x in array1:\n",
        "   print(x)"
      ],
      "execution_count": 5,
      "outputs": [
        {
          "output_type": "stream",
          "name": "stdout",
          "text": [
            "10\n",
            "20\n",
            "30\n",
            "50\n"
          ]
        }
      ]
    },
    {
      "cell_type": "markdown",
      "metadata": {
        "id": "n693ZGeIVsT8"
      },
      "source": [
        "**Search Operation**\n",
        "\n",
        "You can perform a search for an array element based on its value or its index.\n",
        "\n",
        "**Example**\n",
        "\n",
        "Here, we search a data element using the python in-built index() method."
      ]
    },
    {
      "cell_type": "code",
      "metadata": {
        "colab": {
          "base_uri": "https://localhost:8080/"
        },
        "id": "j81BP46iV16_",
        "outputId": "2f41d5f6-65fd-4482-a329-ab87ef8bbb4b"
      },
      "source": [
        "from array import *\n",
        "\n",
        "array1 = array('i', [10,20,30,40,50])\n",
        "\n",
        "print (array1.index(40))"
      ],
      "execution_count": 6,
      "outputs": [
        {
          "output_type": "stream",
          "name": "stdout",
          "text": [
            "3\n"
          ]
        }
      ]
    },
    {
      "cell_type": "markdown",
      "metadata": {
        "id": "zFLZiqupWcru"
      },
      "source": [
        "**Update Operation**\n",
        "\n",
        "Update operation refers to updating an existing element from the array at a given index.\n",
        "\n",
        "**Example**\n",
        "\n",
        "Here, we simply reassign a new value to the desired index we want to update."
      ]
    },
    {
      "cell_type": "code",
      "metadata": {
        "colab": {
          "base_uri": "https://localhost:8080/"
        },
        "id": "aC0SOrg0WizR",
        "outputId": "c13dabb2-cf82-4702-f7d7-371388be4ff2"
      },
      "source": [
        "from array import *\n",
        "\n",
        "array1 = array('i', [10,20,30,40,50])\n",
        "\n",
        "array1[2] = 80\n",
        "\n",
        "for x in array1:\n",
        "   print(x)"
      ],
      "execution_count": 7,
      "outputs": [
        {
          "output_type": "stream",
          "name": "stdout",
          "text": [
            "10\n",
            "20\n",
            "80\n",
            "40\n",
            "50\n"
          ]
        }
      ]
    }
  ]
}