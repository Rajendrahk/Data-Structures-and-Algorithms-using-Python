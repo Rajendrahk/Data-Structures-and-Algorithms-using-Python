{
  "nbformat": 4,
  "nbformat_minor": 0,
  "metadata": {
    "colab": {
      "name": "Stack.ipynb",
      "provenance": []
    },
    "kernelspec": {
      "name": "python3",
      "display_name": "Python 3"
    },
    "language_info": {
      "name": "python"
    }
  },
  "cells": [
    {
      "cell_type": "markdown",
      "source": [
        "**Implementing Stack using Arrays**"
      ],
      "metadata": {
        "id": "-XxqSqcuo7Eq"
      }
    },
    {
      "cell_type": "code",
      "execution_count": 9,
      "metadata": {
        "colab": {
          "base_uri": "https://localhost:8080/"
        },
        "id": "IW8s2M4one4Y",
        "outputId": "c3b07040-ca24-44a0-c030-f090bc414248"
      },
      "outputs": [
        {
          "output_type": "stream",
          "name": "stdout",
          "text": [
            "10 pushed to stack \n",
            "20 pushed to stack \n",
            "30 pushed to stack \n",
            "30 popped from stack\n"
          ]
        }
      ],
      "source": [
        "# Python program for implementation of stack\n",
        "\n",
        "# import maxsize from sys module\n",
        "# Used to return -infinite when stack is empty\n",
        "from sys import maxsize\n",
        "\n",
        "# Function to create a stack. It initializes size of stack as 0\n",
        "def createStack():\n",
        "\tstack = []\n",
        "\treturn stack\n",
        "\n",
        "# Stack is empty when stack size is 0\n",
        "def isEmpty(stack):\n",
        "\treturn len(stack) == 0\n",
        "\n",
        "# Function to add an item to stack. It increases size by 1\n",
        "def push(stack, item):\n",
        "\tstack.append(item)\n",
        "\tprint(item + \" pushed to stack \")\n",
        "\t\n",
        "# Function to remove an item from stack. It decreases size by 1\n",
        "def pop(stack):\n",
        "\tif (isEmpty(stack)):\n",
        "\t\treturn str(-maxsize -1) # return minus infinite\n",
        "\t\n",
        "\treturn stack.pop()\n",
        "\n",
        "# Function to return the top from stack without removing it\n",
        "def peek(stack):\n",
        "\tif (isEmpty(stack)):\n",
        "\t\treturn str(-maxsize -1) # return minus infinite\n",
        "\treturn stack[len(stack) - 1]\n",
        "\n",
        "# Driver program to test above functions\n",
        "stack = createStack()\n",
        "push(stack, str(10))\n",
        "push(stack, str(20))\n",
        "push(stack, str(30))\n",
        "print(pop(stack) + \" popped from stack\")\n",
        "\n"
      ]
    },
    {
      "cell_type": "markdown",
      "source": [
        "# Implementing Stack using Linked List:"
      ],
      "metadata": {
        "id": "IQAHWSMgpVb0"
      }
    },
    {
      "cell_type": "code",
      "source": [
        "# Python program for linked list implementation of stack\n",
        "\n",
        "# Class to represent a node\n",
        "\n",
        "\n",
        "class StackNode:\n",
        "\n",
        "\t# Constructor to initialize a node\n",
        "\tdef __init__(self, data):\n",
        "\t\tself.data = data\n",
        "\t\tself.next = None\n",
        "\n",
        "\n",
        "class Stack:\n",
        "\n",
        "\t# Constructor to initialize the root of linked list\n",
        "\tdef __init__(self):\n",
        "\t\tself.root = None\n",
        "\n",
        "\tdef isEmpty(self):\n",
        "\t\treturn True if self.root is None else False\n",
        "\n",
        "\tdef push(self, data):\n",
        "\t\tnewNode = StackNode(data)\n",
        "\t\tnewNode.next = self.root\n",
        "\t\tself.root = newNode\n",
        "\t\tprint (\"% d pushed to stack\" % (data))\n",
        "\n",
        "\tdef pop(self):\n",
        "\t\tif (self.isEmpty()):\n",
        "\t\t\treturn float(\"-inf\")\n",
        "\t\ttemp = self.root\n",
        "\t\tself.root = self.root.next\n",
        "\t\tpopped = temp.data\n",
        "\t\treturn popped\n",
        "\n",
        "\tdef peek(self):\n",
        "\t\tif self.isEmpty():\n",
        "\t\t\treturn float(\"-inf\")\n",
        "\t\treturn self.root.data\n",
        "\n",
        "\n",
        "# Driver code\n",
        "stack = Stack()\n",
        "stack.push(10)\n",
        "stack.push(20)\n",
        "stack.push(30)\n",
        "\n",
        "print (\"% d popped from stack\" % (stack.pop()))\n",
        "print (\"Top element is % d \" % (stack.peek()))\n",
        "\n"
      ],
      "metadata": {
        "colab": {
          "base_uri": "https://localhost:8080/"
        },
        "id": "FPs-xk9Bpmi6",
        "outputId": "50af9f7f-fd2b-410c-8a19-e50773d4ee9f"
      },
      "execution_count": 2,
      "outputs": [
        {
          "output_type": "stream",
          "name": "stdout",
          "text": [
            " 10 pushed to stack\n",
            " 20 pushed to stack\n",
            " 30 pushed to stack\n",
            " 30 popped from stack\n",
            "Top element is  20 \n"
          ]
        }
      ]
    }
  ]
}