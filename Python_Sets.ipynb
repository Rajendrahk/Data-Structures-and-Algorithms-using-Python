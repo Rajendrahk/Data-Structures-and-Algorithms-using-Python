{
  "nbformat": 4,
  "nbformat_minor": 0,
  "metadata": {
    "colab": {
      "name": "Python - Sets.ipynb",
      "provenance": []
    },
    "kernelspec": {
      "name": "python3",
      "display_name": "Python 3"
    },
    "language_info": {
      "name": "python"
    }
  },
  "cells": [
    {
      "cell_type": "markdown",
      "metadata": {
        "id": "VTf4T12VzhDz"
      },
      "source": [
        "Mathematically a set is a collection of items not in any particular order. A Python set is similar to this mathematical definition with below additional conditions.\n",
        "\n",
        "The elements in the set cannot be duplicates.\n",
        "\n",
        "The elements in the set are immutable(cannot be modified) but the set as a whole is mutable.\n",
        "\n",
        "There is no index attached to any element in a python set. So they do not support any indexing or slicing operation.\n",
        "\n",
        "**Set Operations**\n",
        "\n",
        "The sets in python are typically used for mathematical operations like union, intersection, difference and complement etc. We can create a set, access it’s elements and carry out these mathematical operations as shown below.\n",
        "\n",
        "**Creating a set**\n",
        "\n",
        "A set is created by using the set() function or placing all the elements within a pair of curly braces.\n",
        "\n",
        "**Example**"
      ]
    },
    {
      "cell_type": "code",
      "metadata": {
        "id": "XSycoKwryjnZ",
        "colab": {
          "base_uri": "https://localhost:8080/"
        },
        "outputId": "1b81b783-4828-4bbb-f50e-5b678b384adf"
      },
      "source": [
        "Days=set([\"Mon\",\"Tue\",\"Wed\",\"Thu\",\"Fri\",\"Sat\",\"Sun\"])\n",
        "Months={\"Jan\",\"Feb\",\"Mar\"}\n",
        "Dates={21,22,17}\n",
        "print(Days)\n",
        "print(Months)\n",
        "print(Dates)"
      ],
      "execution_count": 1,
      "outputs": [
        {
          "output_type": "stream",
          "name": "stdout",
          "text": [
            "{'Tue', 'Wed', 'Sun', 'Mon', 'Fri', 'Sat', 'Thu'}\n",
            "{'Feb', 'Jan', 'Mar'}\n",
            "{17, 21, 22}\n"
          ]
        }
      ]
    },
    {
      "cell_type": "markdown",
      "metadata": {
        "id": "ZtpdLg6zG8k1"
      },
      "source": [
        "**Accessing Values in a Set**\n",
        "\n",
        "We cannot access individual values in a set. We can only access all the elements together as shown above. But we can also get a list of individual elements by looping through the set.\n",
        "\n",
        "**Example**"
      ]
    },
    {
      "cell_type": "code",
      "metadata": {
        "colab": {
          "base_uri": "https://localhost:8080/"
        },
        "id": "CmqAwl0AHCcX",
        "outputId": "bffadd0d-9718-427c-d4ec-5451548873b2"
      },
      "source": [
        "Days=set([\"Mon\",\"Tue\",\"Wed\",\"Thu\",\"Fri\",\"Sat\",\"Sun\"])\n",
        " \n",
        "for d in Days:\n",
        "   print(d)"
      ],
      "execution_count": 2,
      "outputs": [
        {
          "output_type": "stream",
          "name": "stdout",
          "text": [
            "Tue\n",
            "Wed\n",
            "Sun\n",
            "Mon\n",
            "Fri\n",
            "Sat\n",
            "Thu\n"
          ]
        }
      ]
    },
    {
      "cell_type": "markdown",
      "metadata": {
        "id": "ou_OxEH2HWel"
      },
      "source": [
        "**Adding Items to a Set**\n",
        "\n",
        "We can add elements to a set by using add() method. Again as discussed there is no specific index attached to the newly added element.\n",
        "\n",
        "**Example**"
      ]
    },
    {
      "cell_type": "code",
      "metadata": {
        "colab": {
          "base_uri": "https://localhost:8080/"
        },
        "id": "YhGHceYUHcRi",
        "outputId": "543b608e-6e46-4e36-9469-3a9835b3c23c"
      },
      "source": [
        "Days=set([\"Mon\",\"Tue\",\"Wed\",\"Thu\",\"Fri\",\"Sat\"])\n",
        " \n",
        "Days.add(\"Sun\")\n",
        "print(Days)"
      ],
      "execution_count": 3,
      "outputs": [
        {
          "output_type": "stream",
          "name": "stdout",
          "text": [
            "{'Tue', 'Wed', 'Sun', 'Mon', 'Fri', 'Sat', 'Thu'}\n"
          ]
        }
      ]
    },
    {
      "cell_type": "markdown",
      "metadata": {
        "id": "u2x9AXFMH4_p"
      },
      "source": [
        "**Removing Item from a Set**\n",
        "\n",
        "We can remove elements from a set by using discard() method. Again as discussed there is no specific index attached to the newly added element.\n",
        "\n",
        "**Example**"
      ]
    },
    {
      "cell_type": "code",
      "metadata": {
        "colab": {
          "base_uri": "https://localhost:8080/"
        },
        "id": "uf4Tez9yIaqm",
        "outputId": "2294c740-6a0a-41c7-a53a-3093deabe46f"
      },
      "source": [
        "Days=set([\"Sun\",\"Mon\",\"Tue\",\"Wed\",\"Thu\",\"Fri\",\"Sat\"])\n",
        " \n",
        "Days.discard(\"Sun\")\n",
        "print(Days)"
      ],
      "execution_count": 4,
      "outputs": [
        {
          "output_type": "stream",
          "name": "stdout",
          "text": [
            "{'Tue', 'Sat', 'Wed', 'Mon', 'Fri', 'Thu'}\n"
          ]
        }
      ]
    },
    {
      "cell_type": "markdown",
      "metadata": {
        "id": "6ZmWoDQnI4WD"
      },
      "source": [
        "**Union of Sets**\n",
        "\n",
        "The union operation on two sets produces a new set containing all the distinct elements from both the sets. In the below example the element “Wed” is present in both the sets.\n",
        "\n",
        "**Example**"
      ]
    },
    {
      "cell_type": "code",
      "metadata": {
        "colab": {
          "base_uri": "https://localhost:8080/"
        },
        "id": "ituQ6bAmI8ui",
        "outputId": "03ea4e70-96cb-45f7-992e-7ac072737167"
      },
      "source": [
        "DaysA = set([\"Mon\",\"Tue\",\"Wed\"])\n",
        "DaysB = set([\"Wed\",\"Thu\",\"Fri\",\"Sat\",\"Sun\"])\n",
        "AllDays = DaysA|DaysB\n",
        "print(AllDays)"
      ],
      "execution_count": 5,
      "outputs": [
        {
          "output_type": "stream",
          "name": "stdout",
          "text": [
            "{'Tue', 'Wed', 'Sun', 'Mon', 'Fri', 'Sat', 'Thu'}\n"
          ]
        }
      ]
    },
    {
      "cell_type": "markdown",
      "metadata": {
        "id": "STRIEZTwJPEz"
      },
      "source": [
        "**Intersection of Sets**\n",
        "\n",
        "The intersection operation on two sets produces a new set containing only the common elements from both the sets. In the below example the element “Wed” is present in both the sets.\n",
        "\n",
        "**Example**"
      ]
    },
    {
      "cell_type": "code",
      "metadata": {
        "colab": {
          "base_uri": "https://localhost:8080/"
        },
        "id": "UvClOyiHJSZx",
        "outputId": "fbe67365-1e28-47bb-eb12-6861d6a0e0a8"
      },
      "source": [
        "DaysA = set([\"Mon\",\"Tue\",\"Wed\"])\n",
        "DaysB = set([\"Wed\",\"Thu\",\"Fri\",\"Sat\",\"Sun\"])\n",
        "AllDays = DaysA & DaysB\n",
        "print(AllDays)"
      ],
      "execution_count": 6,
      "outputs": [
        {
          "output_type": "stream",
          "name": "stdout",
          "text": [
            "{'Wed'}\n"
          ]
        }
      ]
    },
    {
      "cell_type": "markdown",
      "metadata": {
        "id": "ihzxsOUqJ0RG"
      },
      "source": [
        "**Difference of Sets**\n",
        "\n",
        "The difference operation on two sets produces a new set containing only the elements from the first set and none from the second set. In the below example the element “Wed” is present in both the sets so it will not be found in the result set.\n",
        "\n",
        "**Example**"
      ]
    },
    {
      "cell_type": "code",
      "metadata": {
        "colab": {
          "base_uri": "https://localhost:8080/"
        },
        "id": "H8JeOfpYJ9Bm",
        "outputId": "ead1c42d-297d-4a59-d8da-bc73135a9cf9"
      },
      "source": [
        "DaysA = set([\"Mon\",\"Tue\",\"Wed\"])\n",
        "DaysB = set([\"Wed\",\"Thu\",\"Fri\",\"Sat\",\"Sun\"])\n",
        "AllDays = DaysA - DaysB\n",
        "print(AllDays)"
      ],
      "execution_count": 7,
      "outputs": [
        {
          "output_type": "stream",
          "name": "stdout",
          "text": [
            "{'Tue', 'Mon'}\n"
          ]
        }
      ]
    },
    {
      "cell_type": "markdown",
      "metadata": {
        "id": "xTF7DaYdKT6Q"
      },
      "source": [
        "**Compare Sets**\n",
        "\n",
        "We can check if a given set is a subset or superset of another set. The result is True or False depending on the elements present in the sets.\n",
        "\n",
        "**Example**"
      ]
    },
    {
      "cell_type": "code",
      "metadata": {
        "colab": {
          "base_uri": "https://localhost:8080/"
        },
        "id": "yOMpn9-IKavC",
        "outputId": "a155f754-e48d-4f6f-c65f-a5ee6d59c6bb"
      },
      "source": [
        "DaysA = set([\"Mon\",\"Tue\",\"Wed\"])\n",
        "DaysB = set([\"Mon\",\"Tue\",\"Wed\",\"Thu\",\"Fri\",\"Sat\",\"Sun\"])\n",
        "SubsetRes = DaysA <= DaysB\n",
        "SupersetRes = DaysB >= DaysA\n",
        "print(SubsetRes)\n",
        "print(SupersetRes)"
      ],
      "execution_count": 8,
      "outputs": [
        {
          "output_type": "stream",
          "name": "stdout",
          "text": [
            "True\n",
            "True\n"
          ]
        }
      ]
    }
  ]
}