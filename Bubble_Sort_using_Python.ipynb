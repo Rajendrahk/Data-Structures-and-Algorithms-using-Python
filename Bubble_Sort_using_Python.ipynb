{
  "nbformat": 4,
  "nbformat_minor": 0,
  "metadata": {
    "colab": {
      "name": "Bubble Sort using Python.ipynb",
      "provenance": []
    },
    "kernelspec": {
      "name": "python3",
      "display_name": "Python 3"
    },
    "language_info": {
      "name": "python"
    }
  },
  "cells": [
    {
      "cell_type": "code",
      "execution_count": 1,
      "metadata": {
        "colab": {
          "base_uri": "https://localhost:8080/"
        },
        "id": "MgjrVOi_Cpt9",
        "outputId": "19649231-a0dd-4976-f8c8-827da5b5ca74"
      },
      "outputs": [
        {
          "output_type": "stream",
          "name": "stdout",
          "text": [
            "Sorted array is:\n",
            "11 12 22 25 34 64 90 "
          ]
        }
      ],
      "source": [
        "# Python program for implementation of Bubble Sort\n",
        "\n",
        "\n",
        "def bubbleSort(arr):\n",
        "\tn = len(arr)\n",
        "\n",
        "\t# Traverse through all array elements\n",
        "\tfor i in range(n):\n",
        "\n",
        "\t\t# Last i elements are already in place\n",
        "\t\tfor j in range(0, n-i-1):\n",
        "\n",
        "\t\t\t# traverse the array from 0 to n-i-1\n",
        "\t\t\t# Swap if the element found is greater\n",
        "\t\t\t# than the next element\n",
        "\t\t\tif arr[j] > arr[j+1]:\n",
        "\t\t\t\tarr[j], arr[j+1] = arr[j+1], arr[j]\n",
        "\n",
        "\n",
        "# Driver code to test above\n",
        "arr = [64, 34, 25, 12, 22, 11, 90]\n",
        "\n",
        "bubbleSort(arr)\n",
        "\n",
        "print(\"Sorted array is:\")\n",
        "for i in range(len(arr)):\n",
        "\tprint(\"%d\" % arr[i], end=\" \")\n"
      ]
    },
    {
      "cell_type": "code",
      "source": [
        "# Python3 Optimized implementation\n",
        "# of Bubble sort\n",
        "\n",
        "# An optimized version of Bubble Sort\n",
        "def bubbleSort(arr):\n",
        "\tn = len(arr)\n",
        "\n",
        "\t# Traverse through all array elements\n",
        "\tfor i in range(n):\n",
        "\t\tswapped = False\n",
        "\n",
        "\t\t# Last i elements are already\n",
        "\t\t# in place\n",
        "\t\tfor j in range(0, n-i-1):\n",
        "\n",
        "\t\t\t# traverse the array from 0 to\n",
        "\t\t\t# n-i-1. Swap if the element\n",
        "\t\t\t# found is greater than the\n",
        "\t\t\t# next element\n",
        "\t\t\tif arr[j] > arr[j+1] :\n",
        "\t\t\t\tarr[j], arr[j+1] = arr[j+1], arr[j]\n",
        "\t\t\t\tswapped = True\n",
        "\n",
        "\t\t# IF no two elements were swapped\n",
        "\t\t# by inner loop, then break\n",
        "\t\tif swapped == False:\n",
        "\t\t\tbreak\n",
        "\t\t\n",
        "# Driver code to test above\n",
        "arr = [64, 34, 25, 12, 22, 11, 90]\n",
        "\n",
        "bubbleSort(arr)\n",
        "\n",
        "print (\"Sorted array :\")\n",
        "for i in range(len(arr)):\n",
        "\tprint (\"%d\" %arr[i],end=\" \")\n"
      ],
      "metadata": {
        "colab": {
          "base_uri": "https://localhost:8080/"
        },
        "id": "dMvYalXvC2IO",
        "outputId": "e601357e-8caf-4cc2-945b-419a06b3be18"
      },
      "execution_count": 2,
      "outputs": [
        {
          "output_type": "stream",
          "name": "stdout",
          "text": [
            "Sorted array :\n",
            "11 12 22 25 34 64 90 "
          ]
        }
      ]
    }
  ]
}